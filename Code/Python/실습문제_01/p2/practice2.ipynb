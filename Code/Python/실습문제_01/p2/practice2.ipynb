{
 "cells": [
  {
   "cell_type": "markdown",
   "metadata": {},
   "source": [
    "# Practice 2\n",
    "\n",
    "> 함수"
   ]
  },
  {
   "cell_type": "markdown",
   "metadata": {},
   "source": [
    "## 불쌍한 달팽이\n",
    "\n",
    "> 달팽이는 낮 시간 동안에 기둥을 올라간다. 하지만 밤에는 잠을 자면서 어느 정도의 거리만큼 미끄러진다. (낮 시간 동안 올라간 거리보다는 적게 미끄러진다.)\n",
    "> \n",
    "> 달팽이가 기둥의 꼭대기에 도달하는 날까지 걸리는 시간을 반환하는 함수 `snail()`을 작성하시오.\n",
    "\n",
    "> 함수의 인자는 다음과 같다.\n",
    "1. 기둥의 높이(미터)\n",
    "2. 낮 시간 동안 달팽이가 올라가는 거리(미터)\n",
    "3. 달팽이가 야간에 잠을 자는 동안 미끄러지는 거리(미터)\n",
    "\n",
    "---\n",
    "\n",
    "예시)\n",
    "\n",
    "```python\n",
    "snail(100, 5, 2) #=> 33\n",
    "```"
   ]
  },
  {
   "cell_type": "code",
   "execution_count": 1,
   "metadata": {
    "ExecuteTime": {
     "end_time": "2021-01-22T10:03:14.683160Z",
     "start_time": "2021-01-22T10:03:14.678179Z"
    }
   },
   "outputs": [],
   "source": [
    "def snail(height, day, night):\n",
    "    date = 0\n",
    "    while height > 0:\n",
    "        date += 1\n",
    "        height -= day\n",
    "        if height <= 0:\n",
    "            return date\n",
    "            break\n",
    "        else:\n",
    "            height += night"
   ]
  },
  {
   "cell_type": "code",
   "execution_count": 2,
   "metadata": {
    "ExecuteTime": {
     "end_time": "2021-01-22T10:03:15.851081Z",
     "start_time": "2021-01-22T10:03:15.840077Z"
    }
   },
   "outputs": [
    {
     "name": "stdout",
     "output_type": "stream",
     "text": [
      "33\n"
     ]
    }
   ],
   "source": [
    "# 해당 코드를 통해 올바른 결과가 나오는지 확인하시오.\n",
    "print(snail(100, 5, 2))"
   ]
  },
  {
   "cell_type": "markdown",
   "metadata": {},
   "source": [
    "## 자릿수 더하기 (SWEA #2058)\n",
    "\n",
    "> 자연수 number를 입력 받아, 각 자릿수의 합을 계산하여 출력하시오.\n",
    "\n",
    "---\n",
    "\n",
    "예시)\n",
    "\n",
    "```python\n",
    "sum_of_digit(1234) #=> 10\n",
    "sum_of_digit(4321) #=> 10\n",
    "```"
   ]
  },
  {
   "cell_type": "code",
   "execution_count": 7,
   "metadata": {
    "ExecuteTime": {
     "end_time": "2021-01-22T10:06:05.161899Z",
     "start_time": "2021-01-22T10:06:05.156905Z"
    }
   },
   "outputs": [],
   "source": [
    "def sum_of_digit(number):\n",
    "    sum_digit = 0\n",
    "    while number > 0:\n",
    "        sum_digit += number % 10\n",
    "        number = number // 10\n",
    "    return sum_digit"
   ]
  },
  {
   "cell_type": "code",
   "execution_count": 8,
   "metadata": {
    "ExecuteTime": {
     "end_time": "2021-01-22T10:06:05.343398Z",
     "start_time": "2021-01-22T10:06:05.337416Z"
    }
   },
   "outputs": [
    {
     "name": "stdout",
     "output_type": "stream",
     "text": [
      "10\n",
      "10\n"
     ]
    }
   ],
   "source": [
    "# 해당 코드를 통해 올바른 결과가 나오는지 확인하시오.\n",
    "print(sum_of_digit(1234))\n",
    "print(sum_of_digit(4321))"
   ]
  },
  {
   "cell_type": "code",
   "execution_count": null,
   "metadata": {},
   "outputs": [],
   "source": []
  }
 ],
 "metadata": {
  "kernelspec": {
   "display_name": "Python 3",
   "language": "python",
   "name": "python3"
  },
  "language_info": {
   "codemirror_mode": {
    "name": "ipython",
    "version": 3
   },
   "file_extension": ".py",
   "mimetype": "text/x-python",
   "name": "python",
   "nbconvert_exporter": "python",
   "pygments_lexer": "ipython3",
   "version": "3.8.7"
  },
  "toc": {
   "base_numbering": 1,
   "nav_menu": {},
   "number_sections": true,
   "sideBar": true,
   "skip_h1_title": false,
   "title_cell": "Table of Contents",
   "title_sidebar": "Contents",
   "toc_cell": false,
   "toc_position": {},
   "toc_section_display": true,
   "toc_window_display": false
  }
 },
 "nbformat": 4,
 "nbformat_minor": 4
}
