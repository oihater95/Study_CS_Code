{
 "cells": [
  {
   "cell_type": "markdown",
   "metadata": {},
   "source": [
    "# Practice 1\n",
    "\n",
    "> 자료 구조 "
   ]
  },
  {
   "cell_type": "markdown",
   "metadata": {},
   "source": [
    "## 회문 판별\n",
    "\n",
    "> 회문 또는 팰린드롬은 거꾸로 읽어도 제대로 읽는 것과 같은 문장이나 낱말, 숫자, 문자열 등을 말한다. \n",
    "> \n",
    "> 입력으로 짧은 영어단어 word가 주어질 때, 해당 단어가 회문이면 True 회문이 아니면 False를 반환하는 함수를 작성하시오.\n",
    "> \n",
    "> 이때, 반복문(`while`)과 재귀 함수를 사용해서 각각 작성하시오.\n",
    "\n",
    "---\n",
    "\n",
    "예시)\n",
    "\n",
    "```python\n",
    "is_pal_while('tomato') #=> False\n",
    "is_pal_while('racecar') #=> True\n",
    "is_pal_recursive('azza') #=> True\n",
    "```"
   ]
  },
  {
   "cell_type": "code",
   "execution_count": 3,
   "metadata": {
    "ExecuteTime": {
     "end_time": "2021-01-22T10:08:03.421369Z",
     "start_time": "2021-01-22T10:08:03.416429Z"
    }
   },
   "outputs": [],
   "source": [
    "def is_pal(word):\n",
    "    word_reverse = word[::-1]\n",
    "    if word_reverse == word:\n",
    "        return True\n",
    "    else:\n",
    "        return False"
   ]
  },
  {
   "cell_type": "code",
   "execution_count": 4,
   "metadata": {
    "ExecuteTime": {
     "end_time": "2021-01-22T10:08:03.559004Z",
     "start_time": "2021-01-22T10:08:03.553018Z"
    }
   },
   "outputs": [
    {
     "name": "stdout",
     "output_type": "stream",
     "text": [
      "False\n",
      "True\n",
      "True\n"
     ]
    }
   ],
   "source": [
    "print(is_pal('tomato'))\n",
    "print(is_pal('racecar'))\n",
    "print(is_pal('azza'))"
   ]
  },
  {
   "cell_type": "code",
   "execution_count": 16,
   "metadata": {
    "ExecuteTime": {
     "end_time": "2021-01-22T11:36:33.812465Z",
     "start_time": "2021-01-22T11:36:33.807446Z"
    }
   },
   "outputs": [],
   "source": [
    "# while\n",
    "\n",
    "def is_pal_while(word):\n",
    "    idx = 0\n",
    "    while idx <= len(word)/2:\n",
    "        if word[idx] != word[-idx-1]:\n",
    "            return False\n",
    "            break\n",
    "        else:\n",
    "            idx += 1\n",
    "            if idx >= len(word)/2:\n",
    "                 return True"
   ]
  },
  {
   "cell_type": "code",
   "execution_count": 17,
   "metadata": {
    "ExecuteTime": {
     "end_time": "2021-01-22T11:36:34.569404Z",
     "start_time": "2021-01-22T11:36:34.562423Z"
    }
   },
   "outputs": [
    {
     "name": "stdout",
     "output_type": "stream",
     "text": [
      "False\n",
      "True\n",
      "True\n"
     ]
    }
   ],
   "source": [
    "# 해당 코드를 통해 올바른 결과가 나오는지 확인하시오.\n",
    "print(is_pal_while('tomato'))\n",
    "print(is_pal_while('racecar'))\n",
    "print(is_pal_while('azza'))"
   ]
  },
  {
   "cell_type": "code",
   "execution_count": 19,
   "metadata": {
    "ExecuteTime": {
     "end_time": "2021-01-22T13:00:56.040701Z",
     "start_time": "2021-01-22T13:00:56.035707Z"
    }
   },
   "outputs": [],
   "source": [
    "# recursive\n",
    "\n",
    "def is_pal_recursive(word):\n",
    "    new_str = ''\n",
    "    \n",
    "    if word[0] == word[len(word)-1]:\n",
    "        \n",
    "        if len(word) <= 2:\n",
    "            return True\n",
    "        \n",
    "        else:\n",
    "            new_str += word[1:len(word)-1]\n",
    "            return is_pal_recursive(new_str)\n",
    "        \n",
    "    else:\n",
    "        return False"
   ]
  },
  {
   "cell_type": "code",
   "execution_count": 20,
   "metadata": {
    "ExecuteTime": {
     "end_time": "2021-01-22T13:00:56.780705Z",
     "start_time": "2021-01-22T13:00:56.774732Z"
    }
   },
   "outputs": [
    {
     "name": "stdout",
     "output_type": "stream",
     "text": [
      "False\n",
      "True\n",
      "True\n"
     ]
    }
   ],
   "source": [
    "# 해당 코드를 통해 올바른 결과가 나오는지 확인하시오.\n",
    "print(is_pal_recursive('tomato'))\n",
    "print(is_pal_recursive('racecar'))\n",
    "print(is_pal_recursive('azza'))"
   ]
  },
  {
   "cell_type": "code",
   "execution_count": null,
   "metadata": {},
   "outputs": [],
   "source": []
  }
 ],
 "metadata": {
  "kernelspec": {
   "display_name": "Python 3",
   "language": "python",
   "name": "python3"
  },
  "language_info": {
   "codemirror_mode": {
    "name": "ipython",
    "version": 3
   },
   "file_extension": ".py",
   "mimetype": "text/x-python",
   "name": "python",
   "nbconvert_exporter": "python",
   "pygments_lexer": "ipython3",
   "version": "3.8.7"
  },
  "toc": {
   "base_numbering": 1,
   "nav_menu": {},
   "number_sections": true,
   "sideBar": true,
   "skip_h1_title": false,
   "title_cell": "Table of Contents",
   "title_sidebar": "Contents",
   "toc_cell": false,
   "toc_position": {},
   "toc_section_display": true,
   "toc_window_display": false
  }
 },
 "nbformat": 4,
 "nbformat_minor": 4
}
