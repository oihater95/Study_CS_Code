{
 "cells": [
  {
   "cell_type": "markdown",
   "metadata": {},
   "source": [
    "# Practice 3\n",
    "\n",
    "> 자료 구조 "
   ]
  },
  {
   "cell_type": "markdown",
   "metadata": {},
   "source": [
    "## 딕셔너리 뒤집기\n",
    "\n",
    "> 딕셔너리는 기본적으로 key와 value로 이뤄져있다.\n",
    ">\n",
    "> 딕셔너리를 입력받아 value와 key를 뒤집은 결과를 반환하는 함수 `dict_invert()`를 작성하시오.\n",
    "\n",
    "---\n",
    "\n",
    "예시)\n",
    "\n",
    "```python\n",
    "dict_invert({1: 10, 2: 20, 3: 30}) #=> {10: [1], 20: [2], 30: [3]}\n",
    "dict_invert({1: 10, 2: 20, 3: 30, 4: 30}) #=> {10: [1], 20: [2], 30: [3, 4]}\n",
    "dict_invert({1: True, 2: True, 3: True}) #=> {True: [1, 2, 3]}\n",
    "```"
   ]
  },
  {
   "cell_type": "code",
   "execution_count": 23,
   "metadata": {
    "ExecuteTime": {
     "end_time": "2021-01-22T14:25:55.678679Z",
     "start_time": "2021-01-22T14:25:55.671701Z"
    }
   },
   "outputs": [],
   "source": [
    "def dict_invert(my_dict):\n",
    "    values = list(my_dict.values())\n",
    "    new_keys = []\n",
    "    new_values = []\n",
    "    \n",
    "    # 중복제거\n",
    "    for val in values:\n",
    "        if val not in new_values:\n",
    "            new_keys.append(val)\n",
    "            \n",
    "    for value in new_keys:\n",
    "        temp = []\n",
    "        for key in my_dict.keys():\n",
    "            if my_dict[key] == value:\n",
    "                temp.append(key)\n",
    "        new_values.append(temp)\n",
    "        \n",
    "    invert_dict = dict(zip(new_keys, new_values))\n",
    "        \n",
    "        \n",
    "    return invert_dict"
   ]
  },
  {
   "cell_type": "code",
   "execution_count": 24,
   "metadata": {
    "ExecuteTime": {
     "end_time": "2021-01-22T14:25:55.890115Z",
     "start_time": "2021-01-22T14:25:55.883146Z"
    }
   },
   "outputs": [
    {
     "name": "stdout",
     "output_type": "stream",
     "text": [
      "{10: [1], 20: [2], 30: [3]}\n",
      "{10: [1], 20: [2], 30: [3, 4]}\n",
      "{True: [1, 2, 3]}\n"
     ]
    }
   ],
   "source": [
    "# 해당 코드를 통해 올바른 결과가 나오는지 확인하시오.\n",
    "print(dict_invert({1: 10, 2: 20, 3: 30}))\n",
    "print(dict_invert({1: 10, 2: 20, 3: 30, 4: 30}))\n",
    "print(dict_invert({1: True, 2: True, 3: True}))"
   ]
  },
  {
   "cell_type": "code",
   "execution_count": 3,
   "metadata": {
    "ExecuteTime": {
     "end_time": "2021-01-25T00:00:59.550049Z",
     "start_time": "2021-01-25T00:00:59.544070Z"
    }
   },
   "outputs": [],
   "source": [
    "def dict_invert(my_dict):\n",
    "    \n",
    "    result = {}\n",
    "    \n",
    "    for key, value in my_dict.items():\n",
    "        if value not in result:\n",
    "            result[value] = key\n",
    "        else:\n",
    "            result[value] = key\n",
    "            \n",
    "    return result"
   ]
  },
  {
   "cell_type": "code",
   "execution_count": 4,
   "metadata": {
    "ExecuteTime": {
     "end_time": "2021-01-25T00:01:00.446996Z",
     "start_time": "2021-01-25T00:01:00.436030Z"
    }
   },
   "outputs": [
    {
     "name": "stdout",
     "output_type": "stream",
     "text": [
      "{10: 1, 20: 2, 30: 3}\n",
      "{10: 1, 20: 2, 30: 4}\n",
      "{True: 3}\n"
     ]
    }
   ],
   "source": [
    "print(dict_invert({1: 10, 2: 20, 3: 30}))\n",
    "print(dict_invert({1: 10, 2: 20, 3: 30, 4: 30}))\n",
    "print(dict_invert({1: True, 2: True, 3: True}))"
   ]
  },
  {
   "cell_type": "markdown",
   "metadata": {},
   "source": [
    "## 두번째로 많은 수의 개수 구하기\n",
    "\n",
    "> 주어진 리스트의 요소 중에서 두번째로 많은 수를 출력하시오.\n",
    ">\n",
    "> 이때, 두번째로 많은 수는 반드시 1개만 존재한다고 가정한다.\n",
    "\n",
    "---\n",
    "\n",
    "예시)\n",
    "\n",
    "```python\n",
    "get_second_big_number([7, 17, 10, 5, 4, 3, 17, 5, 2, 5]) #=> 2\n",
    "```"
   ]
  },
  {
   "cell_type": "code",
   "execution_count": 34,
   "metadata": {
    "ExecuteTime": {
     "end_time": "2021-01-22T14:36:02.118614Z",
     "start_time": "2021-01-22T14:36:02.111601Z"
    }
   },
   "outputs": [],
   "source": [
    "def get_second_big_number(numbers):\n",
    "    values = []\n",
    "    uniques = []\n",
    "    for i in numbers:\n",
    "        if i not in uniques:\n",
    "            uniques.append(i)\n",
    "            \n",
    "    for num in uniques:\n",
    "        values.append(numbers.count(num))\n",
    "    \n",
    "    num_dict = dict(zip(uniques, values))\n",
    "    num_counts_sorted = sorted(num_dict.values(), reverse=True)\n",
    "  \n",
    "    for key, value in num_dict.items():\n",
    "        if value == num_counts_sorted[1]:\n",
    "            return key"
   ]
  },
  {
   "cell_type": "code",
   "execution_count": 35,
   "metadata": {
    "ExecuteTime": {
     "end_time": "2021-01-22T14:36:02.478627Z",
     "start_time": "2021-01-22T14:36:02.473631Z"
    }
   },
   "outputs": [
    {
     "name": "stdout",
     "output_type": "stream",
     "text": [
      "[3, 2, 1, 1, 1, 1, 1]\n",
      "17\n"
     ]
    }
   ],
   "source": [
    "# 해당 코드를 통해 올바른 결과가 나오는지 확인하시오.\n",
    "print(get_second_big_number([7, 17, 10, 5, 4, 3, 17, 5, 2, 5]))"
   ]
  },
  {
   "cell_type": "code",
   "execution_count": null,
   "metadata": {},
   "outputs": [],
   "source": []
  }
 ],
 "metadata": {
  "kernelspec": {
   "display_name": "Python 3",
   "language": "python",
   "name": "python3"
  },
  "language_info": {
   "codemirror_mode": {
    "name": "ipython",
    "version": 3
   },
   "file_extension": ".py",
   "mimetype": "text/x-python",
   "name": "python",
   "nbconvert_exporter": "python",
   "pygments_lexer": "ipython3",
   "version": "3.8.7"
  },
  "toc": {
   "base_numbering": 1,
   "nav_menu": {},
   "number_sections": true,
   "sideBar": true,
   "skip_h1_title": false,
   "title_cell": "Table of Contents",
   "title_sidebar": "Contents",
   "toc_cell": false,
   "toc_position": {},
   "toc_section_display": true,
   "toc_window_display": false
  }
 },
 "nbformat": 4,
 "nbformat_minor": 4
}
