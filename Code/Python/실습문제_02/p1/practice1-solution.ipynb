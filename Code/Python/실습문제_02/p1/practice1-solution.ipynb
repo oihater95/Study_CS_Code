{
 "cells": [
  {
   "cell_type": "code",
   "execution_count": null,
   "metadata": {
    "deletable": false,
    "editable": false,
    "run_control": {
     "frozen": true
    }
   },
   "outputs": [],
   "source": [
    "## 해설 framework\n",
    "\n",
    "# 기본 문제 접근하는 방식\n",
    "# => 내가 손수 문제를 푼다면...\n",
    "\n",
    "# 1. 어떠한 것을 탐색하여\n",
    "# 2. 어떠한 상황에서\n",
    "# 3. 무엇을 기록할 것인가"
   ]
  },
  {
   "cell_type": "markdown",
   "metadata": {},
   "source": [
    "# Practice 1\n",
    "\n",
    "> 데이터 & 제어문"
   ]
  },
  {
   "cell_type": "markdown",
   "metadata": {},
   "source": [
    "## 갯수 구하기\n",
    "\n",
    "> 주어진 리스트의 요소는 학생 이름으로 구성되어 있다. 학생들의 수를 출력하시오.\n",
    "\n",
    "---\n",
    "\n",
    "```\n",
    "[출력 예시]\n",
    "3\n",
    "```"
   ]
  },
  {
   "cell_type": "code",
   "execution_count": null,
   "metadata": {
    "ExecuteTime": {
     "end_time": "2020-07-20T07:21:43.556594Z",
     "start_time": "2020-07-20T07:21:43.553351Z"
    }
   },
   "outputs": [],
   "source": [
    "students = ['김철수', '이영희', '조민지']\n",
    "\n",
    "# 아래에 코드를 작성하시오.\n",
    "\n"
   ]
  },
  {
   "cell_type": "code",
   "execution_count": 1,
   "metadata": {
    "ExecuteTime": {
     "end_time": "2020-07-20T07:22:05.283718Z",
     "start_time": "2020-07-20T07:22:05.277017Z"
    },
    "deletable": false,
    "editable": false,
    "run_control": {
     "frozen": true
    }
   },
   "outputs": [
    {
     "name": "stdout",
     "output_type": "stream",
     "text": [
      "3\n",
      "3\n"
     ]
    }
   ],
   "source": [
    "students = ['김철수', '이영희', '조민지']\n",
    "\n",
    "'''\n",
    "기본 구조 - 변수에 기록하기\n",
    "'''\n",
    "\n",
    "# 예시 설명) \n",
    "# 학생 수라고 적혀 있지만, 사실 리스트의 길이를 구하는 문제이다.\n",
    "# 아마도 대부분 아래와 같이 코드를 작성했을 것이다. 아니어도 좋다!\n",
    "\n",
    "print(len(students))\n",
    "# 근데 이 것을 반복문을 활용해서 풀어보자.\n",
    "# 반 인원을 체크한다고 하자. 국룰은 바를 정을 하나씩 그리는 것이다.\n",
    "# 이 것을 코드로 옮겨보자.\n",
    "\n",
    "# 1. 바를 정 초기화\n",
    "result = 0\n",
    "# 2. 학생들을 한명씩 불러서\n",
    "for student in students:\n",
    "    # 3. 바를 정 그리기\n",
    "    result = result + 1\n",
    "# 4. 끝\n",
    "print(result)"
   ]
  },
  {
   "cell_type": "code",
   "execution_count": null,
   "metadata": {
    "deletable": false,
    "editable": false,
    "run_control": {
     "frozen": true
    }
   },
   "outputs": [],
   "source": [
    "# 한 명씩 꺼낼 때마다, 임의의 변수(바를정)에 1씩 더해가며 기록을 하고, 마지막에 출력을 하는 것이다.\n",
    "# 여기에 어제 배운 연산자를 활용하게 되면 아래와 같이 수정할 수 있다.\n",
    "\n",
    "result = 0\n",
    "for student in students:\n",
    "    result += 1\n",
    "print(result)\n",
    "\n",
    "# 앞으로 대부분의 알고리즘 문제는 이렇게 접근을 하자.\n",
    "# 어떠한 것을 반복하며(반복문), 특정한 조건(조건문)일 때, 어딘가에 기록을 하는 것!!!!!!!!!!!!!!!!\n",
    "\n",
    "# 왜 이렇게 작성을 할 필요가 있을까?\n",
    "# 다음 문제를 봐보자."
   ]
  },
  {
   "cell_type": "markdown",
   "metadata": {},
   "source": [
    "## 득표수 구하기\n",
    "\n",
    "> 주어진 리스트는 반장 선거 투표 결과이다. 이영희의 총 득표수를 출력하시오.\n",
    "\n",
    "---\n",
    "\n",
    "```\n",
    "[출력 예시]\n",
    "4\n",
    "```"
   ]
  },
  {
   "cell_type": "code",
   "execution_count": null,
   "metadata": {},
   "outputs": [],
   "source": [
    "students = ['이영희', '김철수', '이영희', '조민지', '김철수', '조민지', '이영희', '이영희']\n",
    "\n",
    "# 아래에 코드를 작성하시오.\n",
    "\n"
   ]
  },
  {
   "cell_type": "code",
   "execution_count": 2,
   "metadata": {
    "ExecuteTime": {
     "end_time": "2020-07-20T07:22:20.503455Z",
     "start_time": "2020-07-20T07:22:20.497794Z"
    },
    "deletable": false,
    "editable": false,
    "run_control": {
     "frozen": true
    }
   },
   "outputs": [
    {
     "name": "stdout",
     "output_type": "stream",
     "text": [
      "4\n"
     ]
    }
   ],
   "source": [
    "'''\n",
    "핵심 - 눈에 보이는 조건문 활용하기\n",
    "'''\n",
    "students = ['이영희', '김철수', '이영희', '조민지', '김철수', '조민지', '이영희', '이영희']\n",
    "\n",
    "# 이번에는 하나의 조건이 추가 되었다.\n",
    "# 반장 선거도 국룰은 바를정을 인원별로 그리는 것이다.\n",
    "# 한명씩 투표용지를 꺼내면서 바를 정을 그리는 것을 코드로 접근한다.\n",
    "\n",
    "# 1. 바를 정 초기화\n",
    "count = 0\n",
    "# 2. 전체 학생 리스트를 순회하며,\n",
    "for student in students:\n",
    "    # 3. 만약, 이영희면\n",
    "    if student == '이영희':\n",
    "        # 4. 바를 정을 그린다.\n",
    "        count += 1\n",
    "# 5. 끝\n",
    "print(count)\n",
    "\n",
    "# 앞으로 대부분의 문제는 이렇게 접근을 하자.\n",
    "# 생각보다 밖에 어떠한 변수를 만들어 놓고 초기화 해야하는지를 가장 어려워한다.\n",
    "# 주어진 input을 어떻게 순회하며(반복)\n",
    "# 어떠한 조건에서(조건)\n",
    "# 무엇을 기록할 것인지(외부 변수 초기화)\n",
    "# 여러번 반복이 될 수도 있고, 중첩된 반복일 수도 있고,\n",
    "# 조건이 다양할 수도 있고,\n",
    "# 외부에 있는 변수가 여러개 일수도 있다."
   ]
  },
  {
   "cell_type": "markdown",
   "metadata": {},
   "source": [
    "## 최댓값 구하기\n",
    "\n",
    "> 주어진 리스트의 요소 중에서 최댓값을 출력하시오.\n",
    "\n",
    "---\n",
    "```\n",
    "[출력 예시]\n",
    "22\n",
    "```"
   ]
  },
  {
   "cell_type": "code",
   "execution_count": null,
   "metadata": {
    "ExecuteTime": {
     "end_time": "2020-07-20T07:01:19.363379Z",
     "start_time": "2020-07-20T07:01:19.360247Z"
    }
   },
   "outputs": [],
   "source": [
    "numbers = [7, 10, 22, 4, 3, 17]\n",
    "\n",
    "# 아래에 코드를 작성하시오.\n",
    "\n"
   ]
  },
  {
   "cell_type": "code",
   "execution_count": 3,
   "metadata": {
    "ExecuteTime": {
     "end_time": "2020-07-20T07:22:30.859277Z",
     "start_time": "2020-07-20T07:22:30.853639Z"
    },
    "deletable": false,
    "editable": false,
    "run_control": {
     "frozen": true
    }
   },
   "outputs": [
    {
     "name": "stdout",
     "output_type": "stream",
     "text": [
      "22\n"
     ]
    }
   ],
   "source": [
    "'''\n",
    "핵심 - 조건식을 직접 구하기\n",
    "'''\n",
    "numbers = [7, 10, 22, 4, 3, 17]\n",
    "\n",
    "print(max(numbers))\n",
    "# 위와 같이 구할 수 있다. \n",
    "# 혹은 아래와 같이 구할 수도 있다. 정렬하고 마지막에 있는 값\n",
    "print(sorted(numbers)[-1])\n",
    "# 알고리즘 수업에서는 이렇게 절대 풀이하지 않을 예정이고, 사용할 수 없다.\n",
    "# 기초적인 접근 방법부터 익혀야 한다.\n",
    "# 실제로 이렇게 풀이하는 경우 메모리제한 등에 걸릴 수 있다.\n",
    "\n",
    "# 예시) \n",
    "# Q. 종이에 숫자들이 적혀있다. 어떻게 최대값을 찾을 것인가?\n",
    "# 그냥 눈으로 보면 22라고 보일 수 있는데, 숫자가 100개, 1000개, 10000개로 늘어난다면 어떻게 할 수 있을까?\n",
    "\n",
    "# 단계를 순차적으로 생각해 보는 것이 알고리즘 문제 풀이의 핵심\n",
    "    # 주어진 input 리스트 numbers를 하나씩 꺼낸다.\n",
    "    # 꺼내면서 지금까지 가장 큰 숫자를 기록한다. (max_value)\n",
    "    # 마지막에 기록되어 있는 숫자가 가장 큰 숫자이다.\n",
    "# 이게 가장 기본 구조이다.\n",
    "# 이번에는 조건식을 직접 만들어야한다. 어떻게 해야 할까?\n",
    "    # 1) 기록된 지금까지 가장 큰 숫자(max_value)와 지금 비교하려는 숫자를 비교하고\n",
    "    # 2) 크면 max_value로 교환한다.\n",
    "    # 즉, 7, 10 비교해서 10이 크니까 기록해두고, \n",
    "        # 10, 22 비교해서 22가 크니까 22로 바꾸고,\n",
    "        # 22, 4 비교해서 22가 크니까 22로 기록 유지하고,.. 를 하면 되는 것이다.\n",
    "        \n",
    "\n",
    "# 1. max_value 초기화\n",
    "max_value = 0\n",
    "# 2. 숫자를 하나씩 꺼내서\n",
    "for number in numbers:\n",
    "    # 3. 비교하려는 숫자가(number) max_value 보다 크면,\n",
    "    if number > max_value:\n",
    "        # 4. 교체한다.\n",
    "        max_value = number\n",
    "print(max_value)"
   ]
  },
  {
   "cell_type": "code",
   "execution_count": 4,
   "metadata": {
    "ExecuteTime": {
     "end_time": "2020-07-20T07:22:48.840926Z",
     "start_time": "2020-07-20T07:22:48.834679Z"
    },
    "deletable": false,
    "editable": false,
    "run_control": {
     "frozen": true
    }
   },
   "outputs": [
    {
     "name": "stdout",
     "output_type": "stream",
     "text": [
      "-1\n"
     ]
    }
   ],
   "source": [
    "'''\n",
    "핵심 - 초기화 값의 이해\n",
    "'''\n",
    "numbers = [-1, -3, -100]\n",
    "\n",
    "# 과연 이렇게 하면 될까?\n",
    "# 만약에 모두 음수값이 들어 있으면 결과가 어떻게 될까?\n",
    "# [-1, -3, -100] 이때 초기값이 0이면 결과가 0으로 나오게 된다.\n",
    "# 따라서, 가장 작은 수로 초기화를 하면 좋을 것이다. 가장 작은 수?\n",
    "# 일반적으로 이러한 프로그래밍 문제가 나오면 숫자의 범위가 주어질 것이다.\n",
    "# float('inf') - 양의 무한대, float('-inf') - 음의 무한대\n",
    "# 혹은 가장 쉬운 방법은 처음의 값으로 초기화하는 것!\n",
    "max_value = numbers[0]\n",
    "for number in numbers:\n",
    "    if number > max_value:\n",
    "        max_value = number\n",
    "print(max_value)\n",
    "\n",
    "# 아까는 카운트였기 때문에 0으로 초기화를 하였지만, 지금은 비교를 해야하니 가장 처음 값으로 초기화를 한 것."
   ]
  },
  {
   "cell_type": "markdown",
   "metadata": {},
   "source": [
    "## 최솟값 구하기\n",
    "\n",
    "> 주어진 리스트의 요소 중에서 최솟값을 출력하시오.\n",
    "---\n",
    "```\n",
    "[출력 예시]\n",
    "3\n",
    "```"
   ]
  },
  {
   "cell_type": "code",
   "execution_count": null,
   "metadata": {
    "ExecuteTime": {
     "end_time": "2020-07-20T07:01:53.673440Z",
     "start_time": "2020-07-20T07:01:53.668875Z"
    },
    "scrolled": true
   },
   "outputs": [],
   "source": [
    "numbers = [7, 10, 22, 4, 3, 17]\n",
    "\n",
    "# 아래에 코드를 작성하시오.\n",
    "\n"
   ]
  },
  {
   "cell_type": "code",
   "execution_count": 5,
   "metadata": {
    "ExecuteTime": {
     "end_time": "2020-07-20T07:23:03.754283Z",
     "start_time": "2020-07-20T07:23:03.750005Z"
    },
    "deletable": false,
    "editable": false,
    "run_control": {
     "frozen": true
    }
   },
   "outputs": [
    {
     "name": "stdout",
     "output_type": "stream",
     "text": [
      "3\n"
     ]
    }
   ],
   "source": [
    "\n",
    "numbers = [7, 10, 22, 4, 3, 17]\n",
    "\n",
    "# 1. min_value 초기화\n",
    "min_value = numbers[0]\n",
    "# 2. 주어진 숫자 리스트 순회\n",
    "for number in numbers:\n",
    "    # 3. 해당 숫자가 더 작으면,\n",
    "    if number < min_value:\n",
    "        # 4. 교체한다\n",
    "        min_value = number\n",
    "# 5. 끝\n",
    "print(min_value)"
   ]
  },
  {
   "cell_type": "markdown",
   "metadata": {},
   "source": [
    "## 최댓값과 등장 횟수 구하기\n",
    "\n",
    "> 주어진 리스트의 요소 중에서 최댓값과 등장 횟수를 출력하시오.\n",
    "\n",
    "---\n",
    "\n",
    "```\n",
    "[출력 예시]\n",
    "22 3\n",
    "```"
   ]
  },
  {
   "cell_type": "code",
   "execution_count": null,
   "metadata": {
    "ExecuteTime": {
     "end_time": "2020-07-20T07:14:08.319167Z",
     "start_time": "2020-07-20T07:14:08.316606Z"
    }
   },
   "outputs": [],
   "source": [
    "numbers = [7, 10, 22, 7, 22, 22]\n",
    "\n",
    "# 아래에 코드를 작성하시오.\n",
    "\n"
   ]
  },
  {
   "cell_type": "code",
   "execution_count": 6,
   "metadata": {
    "ExecuteTime": {
     "end_time": "2020-07-20T07:25:20.390722Z",
     "start_time": "2020-07-20T07:25:20.384607Z"
    },
    "deletable": false,
    "editable": false,
    "run_control": {
     "frozen": true
    }
   },
   "outputs": [
    {
     "name": "stdout",
     "output_type": "stream",
     "text": [
      "22 3\n"
     ]
    }
   ],
   "source": [
    "'''\n",
    "핵심 - 복수의 초기 변수 및 조건\n",
    "'''\n",
    "numbers = [7, 10, 22, 7, 22, 22]\n",
    "\n",
    "\n",
    "# 최댓값과 등장 횟수를 구해야 한다. \n",
    "# 어떻게 구조화 할 수 있을까?\n",
    "# 핵심은 하나의 추가변수와 추가 조건을 더 두는 것!\n",
    "\n",
    "# 1. max_value와 count 초기화\n",
    "max_value = numbers[0]\n",
    "count = 0\n",
    "# 2. 주어진 숫자 리스트 순회\n",
    "for number in numbers:\n",
    "    # 3. 해당 숫자가 크면,\n",
    "    if number > max_value:\n",
    "        # 4-1. 교체하고, \n",
    "        # 이것만 하면 안되고...\n",
    "        max_value = number\n",
    "        # 4-2. 교체하면서 카운트를 증가시키고\n",
    "        count = 1\n",
    "    # 5. 같은 숫자면\n",
    "    elif number == max_value:\n",
    "        # 5-1. 카운트를 증가 시킨다.\n",
    "        count += 1\n",
    "# 6. 끝\n",
    "print(max_value, count)"
   ]
  },
  {
   "cell_type": "markdown",
   "metadata": {},
   "source": [
    "## 5의 개수 구하기\n",
    "\n",
    "> 주어진 리스트의 요소 중에서 5의 개수를 출력하시오.\n",
    "\n",
    "---\n",
    "\n",
    "```\n",
    "[출력 예시]\n",
    "3\n",
    "```"
   ]
  },
  {
   "cell_type": "code",
   "execution_count": null,
   "metadata": {},
   "outputs": [],
   "source": [
    "numbers = [7, 17, 10, 5, 4, 3, 17, 5, 2, 5]\n",
    "\n",
    "# 아래에 코드를 작성하시오.\n",
    "\n"
   ]
  },
  {
   "cell_type": "code",
   "execution_count": null,
   "metadata": {
    "deletable": false,
    "editable": false,
    "run_control": {
     "frozen": true
    }
   },
   "outputs": [],
   "source": [
    "# 전체 리스트를 탐색하며,\n",
    "# 5일 때,\n",
    "# 카운트\n",
    "\n",
    "numbers = [7, 17, 10, 5, 4, 3, 17, 5, 2, 5]\n",
    "\n",
    "# 1. 0으로 카운트 초기화\n",
    "count_5 = 0\n",
    "# 2. 주어진 숫자 리스트 순회\n",
    "for number in numbers:\n",
    "    #3. 숫자가 5이면,\n",
    "    if number == 5:\n",
    "        # 4. 카운트\n",
    "        count_5 += 1\n",
    "# 5. 끝\n",
    "print(count_5)"
   ]
  },
  {
   "cell_type": "markdown",
   "metadata": {},
   "source": [
    "## 'a'가 싫어\n",
    "\n",
    "\n",
    "> 입력으로 짧은 영단어 word가 주어질 때, 해당 단어에서 'a'를 모두 제거한 결과를 출력하시오.\n",
    "\n",
    "---\n",
    "```\n",
    "[입력 예시]\n",
    "apple\n",
    "\n",
    "[출력 예시]\n",
    "pple\n",
    "```"
   ]
  },
  {
   "cell_type": "code",
   "execution_count": null,
   "metadata": {
    "ExecuteTime": {
     "end_time": "2020-07-20T07:20:49.097120Z",
     "start_time": "2020-07-20T07:20:45.116132Z"
    }
   },
   "outputs": [],
   "source": [
    "word = input()\n",
    "\n",
    "# 아래에 코드를 작성하시오.\n",
    "\n"
   ]
  },
  {
   "cell_type": "code",
   "execution_count": null,
   "metadata": {
    "deletable": false,
    "editable": false,
    "run_control": {
     "frozen": true
    }
   },
   "outputs": [],
   "source": [
    "''' \n",
    "핵심 - 문자열 순회, 초기화\n",
    "'''\n",
    "# a를 모두 제거한 결과라고 되었지만 다음과 같이 해석하는 것이 좋다.\n",
    "# 1. 문자열을 하나씩 확인하면서,(반복문)\n",
    "# 2. a가 아니면 (조건문)\n",
    "# 3. 기록한다.(변수 result)\n",
    "\n",
    "# 1. 문자열 초기화, 빈 문자열\n",
    "result = ''\n",
    "# 2. 문자열 탐색\n",
    "for char in word:\n",
    "    # 3. a가 아니면\n",
    "    if char != 'a':\n",
    "        # 4. 추가한다.\n",
    "        result += char\n",
    "# 5. 끝\n",
    "print(result)"
   ]
  },
  {
   "cell_type": "code",
   "execution_count": null,
   "metadata": {
    "ExecuteTime": {
     "end_time": "2020-07-20T07:20:54.741522Z",
     "start_time": "2020-07-20T07:20:54.736916Z"
    },
    "deletable": false,
    "editable": false,
    "run_control": {
     "frozen": true
    }
   },
   "outputs": [],
   "source": [
    "# 문자열을 순회하고 더하는 흐름이 낯설게 느껴질 수 있다.\n",
    "# 이때에는 출력문을 잘 활용하자.\n",
    "# 제대로 만들어지는지를 확인하기 위해서는 다음과 같이 확인 해보자.\n",
    "# 어디에 넣어볼까?\n",
    "\n",
    "result = ''\n",
    "for char in word:\n",
    "    if char != 'a':\n",
    "        # 요기에 넣으면 중간 중간 확인 가능할 것이다!\n",
    "        result += char\n",
    "        print(result)\n",
    "# 5. 끝\n",
    "print(result)"
   ]
  },
  {
   "cell_type": "markdown",
   "metadata": {},
   "source": [
    "## 단어 뒤집기\n",
    "\n",
    "> 입력으로 짧은 영어단어 word가 주어질 때, 해당 단어를 역순으로 뒤집은 결과를 출력하시오.\n",
    "\n",
    "---\n",
    "```\n",
    "[입력 예시]\n",
    "apple\n",
    "\n",
    "[출력 예시]\n",
    "elppa\n",
    "```"
   ]
  },
  {
   "cell_type": "code",
   "execution_count": null,
   "metadata": {},
   "outputs": [],
   "source": [
    "word = input()\n",
    "\n",
    "# 아래에 코드를 작성하시오.\n",
    "\n"
   ]
  },
  {
   "cell_type": "code",
   "execution_count": 9,
   "metadata": {
    "ExecuteTime": {
     "end_time": "2020-07-20T07:27:48.654646Z",
     "start_time": "2020-07-20T07:27:48.650314Z"
    },
    "deletable": false,
    "editable": false,
    "run_control": {
     "frozen": true
    },
    "scrolled": true
   },
   "outputs": [
    {
     "name": "stdout",
     "output_type": "stream",
     "text": [
      "elppa\n"
     ]
    }
   ],
   "source": [
    "'''\n",
    "핵심 - 뒤집기\n",
    "'''\n",
    "word = 'apple'\n",
    "# 1. 초기화\n",
    "result = ''\n",
    "# 2. 단어 순회하면서,\n",
    "for char in word:\n",
    "    # 3. 앞에 더 해나간다.\n",
    "    result = char + result\n",
    "# 4. 끝\n",
    "print(result)  "
   ]
  },
  {
   "cell_type": "code",
   "execution_count": 13,
   "metadata": {
    "ExecuteTime": {
     "end_time": "2020-07-20T07:28:56.829995Z",
     "start_time": "2020-07-20T07:28:56.825614Z"
    },
    "deletable": false,
    "editable": false,
    "run_control": {
     "frozen": true
    }
   },
   "outputs": [
    {
     "name": "stdout",
     "output_type": "stream",
     "text": [
      "elppa\n",
      "elppa\n"
     ]
    }
   ],
   "source": [
    "# 물론, 뒤집기만 해도 된다.\n",
    "word = 'apple'\n",
    "print(word[::-1])"
   ]
  }
 ],
 "metadata": {
  "kernelspec": {
   "display_name": "Python 3",
   "language": "python",
   "name": "python3"
  },
  "language_info": {
   "codemirror_mode": {
    "name": "ipython",
    "version": 3
   },
   "file_extension": ".py",
   "mimetype": "text/x-python",
   "name": "python",
   "nbconvert_exporter": "python",
   "pygments_lexer": "ipython3",
   "version": "3.8.7"
  },
  "toc": {
   "base_numbering": 1,
   "nav_menu": {},
   "number_sections": true,
   "sideBar": true,
   "skip_h1_title": false,
   "title_cell": "Table of Contents",
   "title_sidebar": "Contents",
   "toc_cell": false,
   "toc_position": {},
   "toc_section_display": true,
   "toc_window_display": false
  }
 },
 "nbformat": 4,
 "nbformat_minor": 4
}
