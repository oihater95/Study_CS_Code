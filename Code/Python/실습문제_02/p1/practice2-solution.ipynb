{
 "cells": [
  {
   "cell_type": "markdown",
   "metadata": {},
   "source": [
    "# Practice 2\n",
    "\n",
    "> 데이터 & 제어문"
   ]
  },
  {
   "cell_type": "markdown",
   "metadata": {},
   "source": [
    "## 더블더블 (SWEA #2019 변형)\n",
    "\n",
    "> 자연수 number를 입력 받아, 1부터 주어진 자연수 number까지 홀수는 2, 짝수는 3을 곱한 값(들)의 합을 출력하시오.\n",
    "\n",
    "---\n",
    "```\n",
    "[제약 사항] \n",
    "주어질 숫자는 30을 넘지 않는다.\n",
    "\n",
    "[입력 예시]\n",
    "5\n",
    "\n",
    "[출력 예시]\n",
    "36\n",
    "```"
   ]
  },
  {
   "cell_type": "code",
   "execution_count": null,
   "metadata": {
    "scrolled": true
   },
   "outputs": [],
   "source": [
    "number = int(input())\n",
    "\n",
    "# 아래에 코드를 작성하시오.\n",
    "\n"
   ]
  },
  {
   "cell_type": "code",
   "execution_count": null,
   "metadata": {
    "deletable": false,
    "editable": false,
    "run_control": {
     "frozen": true
    }
   },
   "outputs": [],
   "source": [
    "'''\n",
    "핵심 - 순회 대상 지정(range)\n",
    "'''\n",
    "# 주석은 직접 만들면서 준비하세요!\n",
    "# i%2 == 1 을 먼저 작성을 하고,\n",
    "# 0 -> False\n",
    "# 1 -> True \n",
    "# 따라서 제외하고 작성해도 된다고 쪼갤 수 있습니다.\n",
    "\n",
    "number = 5\n",
    "\n",
    "result = 0\n",
    "for i in range(1, number+1):\n",
    "    if i % 2:\n",
    "        result += i * 2\n",
    "    else:\n",
    "        result += i * 3\n",
    "\n",
    "print(result)"
   ]
  },
  {
   "cell_type": "markdown",
   "metadata": {},
   "source": [
    "## 간단한 소수 판별 1\n",
    "\n",
    "> 입력으로 1개의 정수 number가 주어진다. 정수 number가 소수인지 아닌지 판별하여 출력하시오.\n",
    "\n",
    "> 소수 : 1과 자기 자신으로밖에 나누어떨어지지 않는 1 이외의 정수\n",
    "\n",
    "---\n",
    "\n",
    "```\n",
    "[제약사항]\n",
    "number는 2이상 1,000이하의 정수이다. (2 ≤ number ≤ 1,000)\n",
    "\n",
    "[입력]\n",
    "입력으로 정수 number가 주어진다.\n",
    "\n",
    "[출력]\n",
    "정수 number가 소수이면 'Y', 소수가 아니면 'N'을 출력한다.\n",
    "```"
   ]
  },
  {
   "cell_type": "code",
   "execution_count": null,
   "metadata": {},
   "outputs": [],
   "source": [
    "number = int(input())\n",
    "\n",
    "# 아래에 코드를 작성하시오.\n",
    "\n"
   ]
  },
  {
   "cell_type": "code",
   "execution_count": null,
   "metadata": {
    "deletable": false,
    "editable": false,
    "run_control": {
     "frozen": true
    }
   },
   "outputs": [],
   "source": [
    "'''\n",
    "핵심 - 순회 대상 지정(range)\n",
    "    - 변수 교체\n",
    "'''\n",
    "number = 13\n",
    "\n",
    "# 반복은 어떻게 돌릴까?\n",
    "    # 1과 자기 자신으로밖에 나누어떨어지지 않는 1 이외의 정수\n",
    "    # 따라서, 2부터 자기 자신 이전까지의 숫자를 순회한다.\n",
    "# 근데 초기값을 어떻게 둘까?\n",
    "    # 이 문제는 조건에 안 걸리면 => 나누어떨어지는 숫자가 없음 => Y \n",
    "    # 조건에 걸리면 => 나누어떨어지는 숫자 발견 => N으로 변경\n",
    "    # 따라서 초기값은 Y\n",
    "\n",
    "# 1. 변수 초기화\n",
    "is_prime = 'Y'\n",
    "# 2. range 순회\n",
    "for i in range(2, number):\n",
    "    # 3. 나누어떨어진다면,\n",
    "    # 코드를 if not number % i: 으로 수정 해주셔도 됩니다.\n",
    "    if number % i == 0:\n",
    "        # 4. N으로 변경\n",
    "        is_prime = 'N'\n",
    "# 5. 끝\n",
    "print(is_prime)"
   ]
  },
  {
   "cell_type": "code",
   "execution_count": null,
   "metadata": {
    "ExecuteTime": {
     "end_time": "2020-07-20T09:46:33.660583Z",
     "start_time": "2020-07-20T09:46:33.651732Z"
    },
    "deletable": false,
    "editable": false,
    "run_control": {
     "frozen": true
    }
   },
   "outputs": [],
   "source": [
    "# 근데 끝까지 다 탐색할 필요가 있을까?\n",
    "# 한번이라도 나눠 떨어지면 멈춘다.\n",
    "is_prime = 'Y'\n",
    "for i in range(2, number):\n",
    "    if number % i == 0:\n",
    "        is_prime = 'N'\n",
    "        # 추가\n",
    "        break\n",
    "print(is_prime)\n",
    "\n",
    "# 완성된 코드는 이렇게 될 수 있지만,\n",
    "# 항상 작은 단위부터해서 만들고 추가하는 형식으로 작성하는 것이 좋다.\n",
    "# 위의 코드도 동작하는 코드!\n",
    "# 천천히 하나씩 해보자."
   ]
  },
  {
   "cell_type": "markdown",
   "metadata": {},
   "source": [
    "## 간단한 소수 판별 2\n",
    "\n",
    "> 조건, 반복문을 응용하여 numbers 리스트의 요소들이 소수인지 아닌지 판단하는 코드를 작성하시오.\n",
    "\n",
    "---\n",
    "```\n",
    "[출력 예시]\n",
    "26은(는) 소수가 아닙니다. 2은(는) 26의 인수입니다.\n",
    "39은(는) 소수가 아닙니다. 3은(는) 39의 인수입니다.\n",
    "51은(는) 소수가 아닙니다. 3은(는) 51의 인수입니다.\n",
    "53은(는) 소수입니다.\n",
    "57은(는) 소수가 아닙니다. 3은(는) 57의 인수입니다.\n",
    "79은(는) 소수입니다.\n",
    "85은(는) 소수가 아닙니다. 5은(는) 85의 인수입니다.\n",
    "```"
   ]
  },
  {
   "cell_type": "code",
   "execution_count": null,
   "metadata": {
    "ExecuteTime": {
     "end_time": "2020-07-20T09:55:30.618905Z",
     "start_time": "2020-07-20T09:55:30.616055Z"
    },
    "scrolled": true
   },
   "outputs": [],
   "source": [
    "numbers = [26, 39, 51, 53, 57, 79, 85]\n",
    "\n",
    "# 아래에 코드를 작성하시오.\n",
    "\n"
   ]
  },
  {
   "cell_type": "code",
   "execution_count": null,
   "metadata": {
    "deletable": false,
    "editable": false,
    "run_control": {
     "frozen": true
    }
   },
   "outputs": [],
   "source": [
    "'''\n",
    "핵심 - 이중 for문 맛보기\n",
    "'''\n",
    "numbers = [26, 39, 51, 53, 57, 79, 85]\n",
    "\n",
    "\n",
    "# 1. 그대로 코드를 넣어놓기\n",
    "# 아래에 코드를 작성하시오.\n",
    "for number in numbers:\n",
    "    # 1. 아래는 동일\n",
    "    is_prime = 'Y'\n",
    "    for i in range(2, number):\n",
    "        if number % i == 0:\n",
    "            is_prime = 'N'\n",
    "            break\n",
    "    # 2. 값에 따라 다른 출력.\n",
    "    if is_prime == 'Y':\n",
    "        print(f'{number}은(는) 소수입니다.')\n",
    "    else:\n",
    "        print(f'{number}은(는) 소수가 아닙니다. {i}은(는) {number}의 인수입니다.')"
   ]
  },
  {
   "cell_type": "code",
   "execution_count": null,
   "metadata": {
    "ExecuteTime": {
     "end_time": "2020-07-20T09:58:26.611565Z",
     "start_time": "2020-07-20T09:58:26.605693Z"
    },
    "deletable": false,
    "editable": false,
    "run_control": {
     "frozen": true
    }
   },
   "outputs": [],
   "source": [
    "'''\n",
    "핵심 - 변수는 필요할 때만 쓴다.\n",
    "- for-else도 있다.\n",
    "'''\n",
    "# 2. 그때 그때 출력을 할 수도 있다.\n",
    "numbers = [26, 39, 51, 53, 57, 79, 85]\n",
    "\n",
    "# for - else 활용하기\n",
    "# 변수 없애고 그때 그때 출력하기\n",
    "\n",
    "for number in numbers:\n",
    "    for i in range(2, number):\n",
    "        if number % i == 0:\n",
    "            print(f'{number}은(는) 소수가 아닙니다. {i}은(는) {number}의 인수입니다.')\n",
    "            break\n",
    "    # 1. break 없으면 for-else 실행\n",
    "    else:\n",
    "        print(f'{number}은(는) 소수입니다.')"
   ]
  }
 ],
 "metadata": {
  "kernelspec": {
   "display_name": "Python 3",
   "language": "python",
   "name": "python3"
  },
  "language_info": {
   "codemirror_mode": {
    "name": "ipython",
    "version": 3
   },
   "file_extension": ".py",
   "mimetype": "text/x-python",
   "name": "python",
   "nbconvert_exporter": "python",
   "pygments_lexer": "ipython3",
   "version": "3.6.7"
  },
  "toc": {
   "base_numbering": 1,
   "nav_menu": {},
   "number_sections": true,
   "sideBar": true,
   "skip_h1_title": false,
   "title_cell": "Table of Contents",
   "title_sidebar": "Contents",
   "toc_cell": false,
   "toc_position": {},
   "toc_section_display": true,
   "toc_window_display": false
  },
  "widgets": {
   "application/vnd.jupyter.widget-state+json": {
    "state": {},
    "version_major": 2,
    "version_minor": 0
   }
  }
 },
 "nbformat": 4,
 "nbformat_minor": 4
}
