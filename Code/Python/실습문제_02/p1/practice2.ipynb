{
 "cells": [
  {
   "cell_type": "markdown",
   "metadata": {},
   "source": [
    "# Practice 2\n",
    "\n",
    "> 데이터 & 제어문"
   ]
  },
  {
   "cell_type": "markdown",
   "metadata": {},
   "source": [
    "## 더블더블 (SWEA #2019 변형)\n",
    "\n",
    "> 자연수 number를 입력 받아, 1부터 주어진 자연수 number까지 홀수는 2, 짝수는 3을 곱한 값(들)의 합을 출력하시오.\n",
    "\n",
    "---\n",
    "```\n",
    "[제약 사항] \n",
    "주어질 숫자는 30을 넘지 않는다.\n",
    "\n",
    "[입력 예시]\n",
    "5\n",
    "\n",
    "[출력 예시]\n",
    "36\n",
    "```"
   ]
  },
  {
   "cell_type": "code",
   "execution_count": 1,
   "metadata": {
    "ExecuteTime": {
     "end_time": "2021-01-28T15:36:56.878994Z",
     "start_time": "2021-01-28T15:36:55.032948Z"
    },
    "scrolled": true
   },
   "outputs": [
    {
     "name": "stdout",
     "output_type": "stream",
     "text": [
      "5\n",
      "36\n"
     ]
    }
   ],
   "source": [
    "number = int(input())\n",
    "\n",
    "# 아래에 코드를 작성하시오.\n",
    "result = 0\n",
    "\n",
    "for num in range(1, number+1):\n",
    "    if num % 2:\n",
    "        result += 2 * num\n",
    "    else:\n",
    "        result += 3 * num\n",
    "        \n",
    "print(result)"
   ]
  },
  {
   "cell_type": "markdown",
   "metadata": {},
   "source": [
    "## 간단한 소수 판별 1\n",
    "\n",
    "> 입력으로 1개의 정수 number가 주어진다. 정수 number가 소수인지 아닌지 판별하여 출력하시오.\n",
    "\n",
    "---\n",
    "```\n",
    "[제약사항]\n",
    "number는 2이상 1,000이하의 정수이다. (2 ≤ number ≤ 1,000)\n",
    "\n",
    "[입력]\n",
    "입력으로 정수 number가 주어진다.\n",
    "\n",
    "[출력]\n",
    "정수 number가 소수이면 'Y', 소수가 아니면 'N'을 출력한다.\n",
    "```"
   ]
  },
  {
   "cell_type": "code",
   "execution_count": 8,
   "metadata": {
    "ExecuteTime": {
     "end_time": "2021-01-28T15:39:39.519107Z",
     "start_time": "2021-01-28T15:39:37.787703Z"
    }
   },
   "outputs": [
    {
     "name": "stdout",
     "output_type": "stream",
     "text": [
      "13\n",
      "Y\n"
     ]
    }
   ],
   "source": [
    "number = int(input())\n",
    "\n",
    "# 아래에 코드를 작성하시오.\n",
    "\n",
    "for num in range(2, number):\n",
    "    if number % num == 0:\n",
    "        print('N')\n",
    "        break\n",
    "else:\n",
    "    print('Y')\n",
    "        "
   ]
  },
  {
   "cell_type": "markdown",
   "metadata": {},
   "source": [
    "## 간단한 소수 판별 2\n",
    "\n",
    "> 조건, 반복문을 응용하여 numbers 리스트의 요소들이 소수인지 아닌지 판단하는 코드를 작성하시오.\n",
    "\n",
    "---\n",
    "```\n",
    "[출력 예시]\n",
    "26은(는) 소수가 아닙니다. 2은(는) 26의 인수입니다.\n",
    "39은(는) 소수가 아닙니다. 3은(는) 39의 인수입니다.\n",
    "51은(는) 소수가 아닙니다. 3은(는) 51의 인수입니다.\n",
    "53은(는) 소수입니다.\n",
    "57은(는) 소수가 아닙니다. 3은(는) 57의 인수입니다.\n",
    "79은(는) 소수입니다.\n",
    "85은(는) 소수가 아닙니다. 5은(는) 85의 인수입니다.\n",
    "```"
   ]
  },
  {
   "cell_type": "code",
   "execution_count": 9,
   "metadata": {
    "ExecuteTime": {
     "end_time": "2021-01-28T15:41:20.782290Z",
     "start_time": "2021-01-28T15:41:20.775354Z"
    }
   },
   "outputs": [
    {
     "name": "stdout",
     "output_type": "stream",
     "text": [
      "26은(는) 소수가 아닙니다. 2은(는) 26의 인수입니다.\n",
      "39은(는) 소수가 아닙니다. 3은(는) 39의 인수입니다.\n",
      "51은(는) 소수가 아닙니다. 3은(는) 51의 인수입니다.\n",
      "53은(는) 소수입니다.\n",
      "57은(는) 소수가 아닙니다. 3은(는) 57의 인수입니다.\n",
      "79은(는) 소수입니다.\n",
      "85은(는) 소수가 아닙니다. 5은(는) 85의 인수입니다.\n"
     ]
    }
   ],
   "source": [
    "numbers = [26, 39, 51, 53, 57, 79, 85]\n",
    "\n",
    "# 아래에 코드를 작성하시오.\n",
    "for number in numbers:    \n",
    "    for num in range(2, number):\n",
    "        if number % num == 0:\n",
    "            print(f'{number}은(는) 소수가 아닙니다. {num}은(는) {number}의 인수입니다.')\n",
    "            break\n",
    "    else:\n",
    "        print(f'{number}은(는) 소수입니다.')\n"
   ]
  },
  {
   "cell_type": "code",
   "execution_count": null,
   "metadata": {},
   "outputs": [],
   "source": []
  }
 ],
 "metadata": {
  "kernelspec": {
   "display_name": "Python 3",
   "language": "python",
   "name": "python3"
  },
  "language_info": {
   "codemirror_mode": {
    "name": "ipython",
    "version": 3
   },
   "file_extension": ".py",
   "mimetype": "text/x-python",
   "name": "python",
   "nbconvert_exporter": "python",
   "pygments_lexer": "ipython3",
   "version": "3.8.7"
  },
  "toc": {
   "base_numbering": 1,
   "nav_menu": {},
   "number_sections": true,
   "sideBar": true,
   "skip_h1_title": false,
   "title_cell": "Table of Contents",
   "title_sidebar": "Contents",
   "toc_cell": false,
   "toc_position": {},
   "toc_section_display": true,
   "toc_window_display": false
  },
  "widgets": {
   "application/vnd.jupyter.widget-state+json": {
    "state": {},
    "version_major": 2,
    "version_minor": 0
   }
  }
 },
 "nbformat": 4,
 "nbformat_minor": 4
}
