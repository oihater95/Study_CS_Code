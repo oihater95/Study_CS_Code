{
 "cells": [
  {
   "cell_type": "code",
   "execution_count": null,
   "metadata": {
    "deletable": false,
    "editable": false,
    "run_control": {
     "frozen": true
    }
   },
   "outputs": [],
   "source": [
    "'''\n",
    "배웠던 메서드를 활용해보기\n",
    "'''"
   ]
  },
  {
   "cell_type": "markdown",
   "metadata": {},
   "source": [
    "# Practice 3\n",
    "\n",
    "> 자료 구조 "
   ]
  },
  {
   "cell_type": "markdown",
   "metadata": {},
   "source": [
    "## 썩은 과일 찾기\n",
    "\n",
    "> 과수원에 농부 한명이 썩은 과일이 몇개 들어있는 과일 봉지를 가지고 있다. (과일 봉지는 리스트를 의미한다.)\n",
    ">\n",
    "> 썩은 과일 조각들을 모두 신선한 것으로 교체하는 함수 `change_rotten_fruit()`를 작성하시오. \n",
    ">\n",
    "> 예를 들어,\n",
    "- `['apple', 'rottenBanana', 'apple']` 이라는 리스트가 주어진 경우, 대체된 리스트는 `['apple', 'banana', 'apple']` 이어야 한다. \n",
    ">\n",
    ">\n",
    "> **유의**\n",
    "- 만약 리스트가 비어 있는 경우 빈 리스트를 반환한다.\n",
    "- 반환된 리스트의 요소는 모두 소문자여야 한다.\n",
    "\n",
    "---\n",
    "\n",
    "예시)\n",
    "\n",
    "```python\n",
    "change_rotten_fruit(['apple', 'rottenBanana', 'apple']) \n",
    "#=> ['apple', 'banana', 'apple']\n",
    "\n",
    "change_rotten_fruit(['rottenapple', 'rottenBanana', 'apple', 'rottenGrape']) \n",
    "#=> ['apple', 'banana', 'apple', 'grape']\n",
    "```"
   ]
  },
  {
   "cell_type": "code",
   "execution_count": null,
   "metadata": {},
   "outputs": [],
   "source": [
    "def change_rotten_fruit(fruit_bag):\n",
    "    pass"
   ]
  },
  {
   "cell_type": "code",
   "execution_count": null,
   "metadata": {},
   "outputs": [],
   "source": [
    "# 해당 코드를 통해 올바른 결과가 나오는지 확인하시오.\n",
    "print(change_rotten_fruit(['apple', 'rottenBanana', 'apple'] ))\n",
    "print(change_rotten_fruit(['rottenapple', 'rottenBanana', 'apple', 'rottenGrape']))"
   ]
  },
  {
   "cell_type": "code",
   "execution_count": null,
   "metadata": {
    "ExecuteTime": {
     "end_time": "2020-07-22T08:15:25.846690Z",
     "start_time": "2020-07-22T08:15:25.842305Z"
    },
    "deletable": false,
    "editable": false,
    "run_control": {
     "frozen": true
    }
   },
   "outputs": [],
   "source": [
    "'''\n",
    "핵심 - 메서드 써보기\n",
    "비어있는 경우 고민 안해도 됨. all(), any() 참고\n",
    "'''\n",
    "def remove_rotten(fruit_bag):\n",
    "    result = []\n",
    "    for fruit in fruit_bag:\n",
    "        fruit = fruit.replace('rotten', '')\n",
    "        fruit = fruit.lower()\n",
    "        result.append(fruit)\n",
    "    return result"
   ]
  },
  {
   "cell_type": "markdown",
   "metadata": {},
   "source": [
    "## 중복되지 않은 숫자의 합\n",
    "\n",
    "> 같은 숫자가 한개 있거나 두개가 들어있는 리스트가 주어진다. 이러한 리스트에서 숫자가 한개만 있는 요소들의 합을 구하는 함수 `sum_of_repeat_number()`를 작성하시오.\n",
    ">\n",
    "> 예를 들어, `[4, 4, 7, 8, 10, 4]`는 7과 8, 10이 한번만 나오기 때문에 두개를 더한 25가 결과값으로 도출된다.\n",
    "\n",
    "---\n",
    "\n",
    "예시)\n",
    "\n",
    "```python\n",
    "sum_of_repeat_number([4, 4, 7, 8, 10, 4]) # => 25\n",
    "```\n"
   ]
  },
  {
   "cell_type": "code",
   "execution_count": null,
   "metadata": {},
   "outputs": [],
   "source": [
    "def sum_of_repeat_number(numbers):\n",
    "    pass"
   ]
  },
  {
   "cell_type": "code",
   "execution_count": null,
   "metadata": {
    "ExecuteTime": {
     "end_time": "2020-07-22T07:58:30.841852Z",
     "start_time": "2020-07-22T07:58:30.838924Z"
    }
   },
   "outputs": [],
   "source": [
    "# 해당 코드를 통해 올바른 결과가 나오는지 확인하시오.\n",
    "print(sum_of_repeat_number([4, 4, 7, 8, 10, 4]))"
   ]
  },
  {
   "cell_type": "code",
   "execution_count": null,
   "metadata": {
    "ExecuteTime": {
     "end_time": "2020-07-22T07:56:07.556305Z",
     "start_time": "2020-07-22T07:56:07.550671Z"
    },
    "deletable": false,
    "editable": false,
    "run_control": {
     "frozen": true
    }
   },
   "outputs": [],
   "source": [
    "'''\n",
    "핵심 - 어떠한 변수를 써야할지\n",
    "'''\n",
    "# 전체 리스트를 순회하며, (반복)\n",
    "# 한번만 나타난 것이라면, (조건)\n",
    "    # 리스트에 추가해서 (변수)\n",
    "# 그 합을 반환한다.\n",
    "\n",
    "# 위에처럼 생각하면 될까?\n",
    "# 한번 순회를 하며 처리를 하기 위해서는, 리스트는 두가지가 필요하다.\n",
    "# 한번 등장한 것을 저장(once)\n",
    "# 두번이상 등장한 것을 저장(multiple)\n",
    "# 한번이라도 등장하였다면,\n",
    "    # multiple로 옮기고\n",
    "    # once에서 삭제한다.\n",
    "# 등장한 적이 없고, multiple에 없다면,\n",
    "    # once에 추가한다.\n",
    "\n",
    "def sum_of_repeat_number(numbers):\n",
    "    once = []\n",
    "    multiple = []\n",
    "    for number in numbers:\n",
    "        if number in once:\n",
    "            multiple.append(number)\n",
    "            once.remove(number)\n",
    "        elif number not in multiple:\n",
    "            once.append(number)\n",
    "    return sum(once)\n",
    "            \n",
    "'''\n",
    "핵심 - 리스트 메서드 쓰기\n",
    "'''            \n",
    "# 한번만 나타난 것이라면을 조건으로 할 수 있다면, 변수는 한개만 활용해도 된다.\n",
    "# 리스트 메서드를 활용하자!\n",
    "def sum_of_repeat_number(numbers):\n",
    "    result = 0\n",
    "    for number in numbers:\n",
    "        if numbers.count(number) == 1:\n",
    "            result += number\n",
    "    return result"
   ]
  }
 ],
 "metadata": {
  "kernelspec": {
   "display_name": "Python 3",
   "language": "python",
   "name": "python3"
  },
  "language_info": {
   "codemirror_mode": {
    "name": "ipython",
    "version": 3
   },
   "file_extension": ".py",
   "mimetype": "text/x-python",
   "name": "python",
   "nbconvert_exporter": "python",
   "pygments_lexer": "ipython3",
   "version": "3.8.3"
  },
  "toc": {
   "base_numbering": 1,
   "nav_menu": {},
   "number_sections": true,
   "sideBar": true,
   "skip_h1_title": false,
   "title_cell": "Table of Contents",
   "title_sidebar": "Contents",
   "toc_cell": false,
   "toc_position": {},
   "toc_section_display": true,
   "toc_window_display": false
  }
 },
 "nbformat": 4,
 "nbformat_minor": 4
}
