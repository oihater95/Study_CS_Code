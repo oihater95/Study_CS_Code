{
 "cells": [
  {
   "cell_type": "markdown",
   "metadata": {},
   "source": [
    "# Practice 1\n",
    "\n",
    "> 복잡한 자료구조의 (2차원 리스트) 반복문"
   ]
  },
  {
   "cell_type": "markdown",
   "metadata": {},
   "source": [
    "## 복잡한 리스트의 합\n",
    "\n",
    "> 2차원 리스트를 반복하는 방법을 알아봅시다. \n",
    "\n",
    "\n",
    "* 주어진 아래의 리스트를 반복하여 숫자의 합을 반환하시오.\n",
    "\n",
    "---\n",
    "**예시 입력**\n",
    "\n",
    "```python\n",
    "numbers = [\n",
    "    [1, 4],\n",
    "    [10, 5],\n",
    "    [20, 30]    \n",
    "]\n",
    "\n",
    "```\n",
    "\n",
    "**예시 출력**\n",
    "```python\n",
    "sum_list([[1, 4], [10, 5], [20, 30]]) # 70\n",
    "```"
   ]
  },
  {
   "cell_type": "markdown",
   "metadata": {},
   "source": [
    "### for 문을 활용하여 풀이하기\n",
    "\n",
    "```python\n",
    "for element in list:\n",
    "```"
   ]
  },
  {
   "cell_type": "code",
   "execution_count": 1,
   "metadata": {},
   "outputs": [],
   "source": [
    "##\n",
    "def sum_list(numbers):\n",
    "    result = 0\n",
    "    # 외부 배열에서 내부 배열을 꺼내서\n",
    "    for number in numbers:\n",
    "        # 내부 배열의 요소를 하나씩 꺼내기!\n",
    "        for n in number:\n",
    "            result += n\n",
    "    return result\n",
    "    \n",
    "sum_list([[1, 4], [10, 5], [20, 30]]) # 70\n",
    "## 강사용 주석: 학생들이 number[0], number[1]로 풀어낼 수 있습니다.\n",
    "## 체크 후 반복문을 돌릴 수 있도록 유도 해주세요.\n",
    "sum_list([[1, 4], [10, 5], [20, 30, 100]]) # 170"
   ]
  },
  {
   "cell_type": "code",
   "execution_count": 2,
   "metadata": {},
   "outputs": [],
   "source": [
    "print(sum_list([[1, 4], [10, 5], [20, 30]]))"
   ]
  },
  {
   "cell_type": "markdown",
   "metadata": {},
   "source": [
    "### Index로 접근하여 풀이하기\n",
    "\n",
    "```python\n",
    "for element in range(len(list)):\n",
    "```"
   ]
  },
  {
   "cell_type": "code",
   "execution_count": 3,
   "metadata": {},
   "outputs": [],
   "source": [
    "def sum_list_index(numbers):\n",
    "    result = 0\n",
    "    # 외부 배열의 길이만큼 반복\n",
    "    for i in range(len(numbers)):\n",
    "        # 내부 배열에 접근하여(numbers[i])\n",
    "        # 내부 배열의 길이만큼\n",
    "        for j in range(len(numbers[i])):\n",
    "            # 원소에 접근하여(numbers[i][j])\n",
    "            result += numbers[i][j]\n",
    "    return result"
   ]
  },
  {
   "cell_type": "code",
   "execution_count": 4,
   "metadata": {},
   "outputs": [],
   "source": [
    "print(sum_list_index([[1, 4], [10, 5], [20, 30]]))"
   ]
  },
  {
   "cell_type": "markdown",
   "metadata": {},
   "source": [
    "### while 문을 활용하여 풀이하기\n",
    "\n",
    "```python\n",
    "while ____:\n",
    "```"
   ]
  },
  {
   "cell_type": "code",
   "execution_count": 5,
   "metadata": {},
   "outputs": [],
   "source": [
    "def sum_list_while(numbers):\n",
    "    # 리스트 순회\n",
    "    i = 0\n",
    "    result = 0\n",
    "    # 외부 배열의 길이 0부터\n",
    "    while i < len(numbers):\n",
    "        # 내부 배열 길이 0부터\n",
    "        j = 0\n",
    "        while j < len(numbers[i]):\n",
    "            # 내부 요소의 값을 더하고\n",
    "            result += 1\n",
    "            # 내부 배열 다음 것을 위해 더하고\n",
    "            j += 1\n",
    "        # 외부 배열 다음 것을 위해 더하고\n",
    "        i += 1\n",
    "    return result"
   ]
  },
  {
   "cell_type": "code",
   "execution_count": 6,
   "metadata": {},
   "outputs": [
    {
     "name": "stdout",
     "output_type": "stream",
     "text": [
      "6\n"
     ]
    }
   ],
   "source": [
    "print(sum_list_while([[1, 4], [10, 5], [20, 30]]))"
   ]
  },
  {
   "cell_type": "markdown",
   "metadata": {},
   "source": [
    "### 강사용\n",
    "\n",
    "> 수업시간에 굳이..."
   ]
  },
  {
   "cell_type": "code",
   "execution_count": 7,
   "metadata": {
    "scrolled": true
   },
   "outputs": [
    {
     "data": {
      "text/plain": [
       "170"
      ]
     },
     "execution_count": 7,
     "metadata": {},
     "output_type": "execute_result"
    }
   ],
   "source": [
    "# 가져다 쓰기\n",
    "from itertools import chain\n",
    "sum(chain.from_iterable([[1, 4], [10, 5], [20, 30, 100]]))"
   ]
  },
  {
   "cell_type": "code",
   "execution_count": 8,
   "metadata": {
    "scrolled": true
   },
   "outputs": [
    {
     "data": {
      "text/plain": [
       "170"
      ]
     },
     "execution_count": 8,
     "metadata": {},
     "output_type": "execute_result"
    }
   ],
   "source": [
    "# sum 함수의 비밀\n",
    "sum(sum([[1, 4], [10, 5], [20, 30, 100]], []))"
   ]
  },
  {
   "cell_type": "markdown",
   "metadata": {},
   "source": [
    "## 시험 점수\n",
    "\n",
    "> 2차원 배열\n",
    "\n",
    "\n",
    "* A반 학생들의 점수는 아래와 같고, students 리스트에 저장되어 있다.\n",
    "\n",
    "    * A학생(국어 100점, 수학 80점, 영어 100점)\n",
    "    * B학생(국어 90점, 수학 90점, 영어 60점)\n",
    "    * C학생(국어 80점, 수학 80점, 영어 80점)\n",
    "\n",
    "```python\n",
    "students = [\n",
    " [100, 80, 100],\n",
    " [90, 90, 60],\n",
    " [80, 80, 80]\n",
    "]\n",
    "```"
   ]
  },
  {
   "cell_type": "markdown",
   "metadata": {},
   "source": [
    "### 학생별 출력\n",
    "\n",
    "* 아래의 리스트를 반복하여 **학생별 총합**을 순서대로 `출력`하시오.\n",
    "\n",
    "* `sum` 함수 사용 금지\n",
    "\n",
    "---\n",
    "**예시 입력**\n",
    "\n",
    "```python\n",
    "students = [\n",
    " [100, 80, 100],\n",
    " [90, 90, 60],\n",
    " [80, 80, 80]\n",
    "]\n",
    "```\n",
    "\n",
    "**예시 출력**\n",
    "```\n",
    "280\n",
    "240\n",
    "240\n",
    "```"
   ]
  },
  {
   "cell_type": "code",
   "execution_count": 9,
   "metadata": {},
   "outputs": [],
   "source": [
    "students = [\n",
    " [100, 80, 100],\n",
    " [90, 90, 60],\n",
    " [80, 80, 80]\n",
    "]"
   ]
  },
  {
   "cell_type": "code",
   "execution_count": 10,
   "metadata": {},
   "outputs": [
    {
     "name": "stdout",
     "output_type": "stream",
     "text": [
      "280\n",
      "240\n",
      "240\n"
     ]
    }
   ],
   "source": [
    "# 풀이 1- 그냥 for 문 => 떽\n",
    "for student in students:\n",
    "    print(sum(student))"
   ]
  },
  {
   "cell_type": "code",
   "execution_count": 11,
   "metadata": {},
   "outputs": [
    {
     "name": "stdout",
     "output_type": "stream",
     "text": [
      "280\n",
      "240\n",
      "240\n"
     ]
    }
   ],
   "source": [
    "# 풀이 2- 그냥 for 문 => 떽\n",
    "# sum을 반복문으로 실행 시킬 수 있어야함.\n",
    "for student in students:\n",
    "    result = 0\n",
    "    for score in student:\n",
    "        result += score\n",
    "    print(result)"
   ]
  },
  {
   "cell_type": "code",
   "execution_count": 12,
   "metadata": {},
   "outputs": [
    {
     "name": "stdout",
     "output_type": "stream",
     "text": [
      "280\n",
      "240\n",
      "240\n"
     ]
    }
   ],
   "source": [
    "# 풀이 2- index 접근 for문\n",
    "# 복잡해 보이겠지만.. 아래를 해설하면\n",
    "for i in range(len(students)):\n",
    "    result = 0\n",
    "    for j in range(len(students[i])):\n",
    "        result += students[i][j]\n",
    "    print(result)"
   ]
  },
  {
   "cell_type": "markdown",
   "metadata": {},
   "source": [
    "### 과목별 출력\n",
    "\n",
    "* 아래의 리스트를 반복하여 **과목별 총합**을 순서대로 `출력`하시오.\n",
    "* `sum` 함수 사용 금지\n",
    "\n",
    "---\n",
    "**예시 입력**\n",
    "\n",
    "```python\n",
    "students = [\n",
    " [100, 80, 100],\n",
    " [90, 90, 60],\n",
    " [80, 80, 80]\n",
    "]\n",
    "```\n",
    "\n",
    "**예시 출력**\n",
    "```\n",
    "270\n",
    "250\n",
    "240\n",
    "```"
   ]
  },
  {
   "cell_type": "code",
   "execution_count": 13,
   "metadata": {},
   "outputs": [],
   "source": [
    "students = [\n",
    " [100, 80, 100],\n",
    " [90, 90, 60],\n",
    " [80, 80, 80]\n",
    "]"
   ]
  },
  {
   "cell_type": "code",
   "execution_count": 15,
   "metadata": {},
   "outputs": [
    {
     "name": "stdout",
     "output_type": "stream",
     "text": [
      "270\n",
      "250\n",
      "240\n"
     ]
    }
   ],
   "source": [
    "# 요소 자체를 꺼내는 형식으로 코드를 작성하게 되면,\n",
    "# 첫번째 반복문은 반드시 리스트 요소를 꺼낸다.\n",
    "# 따라서 반복문 작성이 매우 복잡하게 됨..\n",
    "# 하지만, 인덱스 접근을 알아두면 쉽게 바꿔서 표현 가능하다.\n",
    "for i in range(len(students)):\n",
    "    result = 0\n",
    "    for j in range(len(students[i])):\n",
    "        result += students[j][i]\n",
    "    print(result)"
   ]
  },
  {
   "cell_type": "markdown",
   "metadata": {},
   "source": [
    "## 정리"
   ]
  },
  {
   "cell_type": "markdown",
   "metadata": {},
   "source": [
    "* 2차원 리스트를 모두 돌 때(순회), 접근할 수 있는 방법!\n",
    "\n",
    "* 알고리즘 수업을 시작하면 아래처럼 작성해야 하는 경우가 많을 것!\n",
    "\n",
    "* (선택 정리) 지그재그 순회"
   ]
  },
  {
   "cell_type": "code",
   "execution_count": 20,
   "metadata": {},
   "outputs": [
    {
     "name": "stdout",
     "output_type": "stream",
     "text": [
      "행 우선\n",
      "1 2 3 \n",
      "4 5 6 \n",
      "7 8 9 \n",
      "열 우선\n",
      "1 4 7 \n",
      "2 5 8 \n",
      "3 6 9 \n"
     ]
    }
   ],
   "source": [
    "l = [\n",
    "  [1, 2, 3],\n",
    "  [4, 5, 6], \n",
    "  [7, 8, 9]\n",
    "]\n",
    "print('행 우선')\n",
    "for i in range(len(l)):\n",
    "    for j in range(len(l[i])):\n",
    "        print(l[i][j], end=' ')\n",
    "    print()\n",
    "print('열 우선')\n",
    "for i in range(len(l)):\n",
    "    for j in range(len(l[i])):\n",
    "        print(l[j][i], end=' ')\n",
    "    print()"
   ]
  }
 ],
 "metadata": {
  "kernelspec": {
   "display_name": "Python 3",
   "language": "python",
   "name": "python3"
  },
  "language_info": {
   "codemirror_mode": {
    "name": "ipython",
    "version": 3
   },
   "file_extension": ".py",
   "mimetype": "text/x-python",
   "name": "python",
   "nbconvert_exporter": "python",
   "pygments_lexer": "ipython3",
   "version": "3.8.3"
  },
  "toc": {
   "base_numbering": 1,
   "nav_menu": {},
   "number_sections": true,
   "sideBar": true,
   "skip_h1_title": false,
   "title_cell": "Table of Contents",
   "title_sidebar": "Contents",
   "toc_cell": false,
   "toc_position": {},
   "toc_section_display": true,
   "toc_window_display": false
  }
 },
 "nbformat": 4,
 "nbformat_minor": 4
}
