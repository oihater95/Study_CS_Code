{
 "cells": [
  {
   "cell_type": "code",
   "execution_count": 1,
   "metadata": {},
   "outputs": [
    {
     "data": {
      "text/plain": [
       "array([[ 1.4289 ,  4.3156 ],\n",
       "       [ 1.2643 ,  6.6349 ],\n",
       "       [-1.362  ,  0.95923],\n",
       "       ...,\n",
       "       [ 1.337  ,  5.8648 ],\n",
       "       [ 1.0654 ,  7.2634 ],\n",
       "       [-0.80376,  3.0365 ]])"
      ]
     },
     "execution_count": 1,
     "metadata": {},
     "output_type": "execute_result"
    }
   ],
   "source": [
    "import matplotlib.pyplot as plt\n",
    "import numpy as np\n",
    "from sklearn.linear_model import LinearRegression\n",
    "\n",
    "train_percent = 0.4  # To be modified\n",
    "valid_percent = 0.1  # To be modified\n",
    "\n",
    "# Modify the data location for loading data\n",
    "data = np.loadtxt('./data.csv', unpack=True, delimiter=',',skiprows=0)\n",
    "data = np.transpose(data)\n",
    "data"
   ]
  },
  {
   "cell_type": "code",
   "execution_count": 2,
   "metadata": {},
   "outputs": [
    {
     "data": {
      "text/plain": [
       "array([[-1.4991 , -1.4906 , -1.4888 , ...,  2.4595 ,  2.4648 ,  2.4937 ],\n",
       "       [-0.91638, -1.8278 , -1.0039 , ...,  5.5696 ,  5.9354 ,  7.4315 ]])"
      ]
     },
     "execution_count": 2,
     "metadata": {},
     "output_type": "execute_result"
    }
   ],
   "source": [
    "# Write a code for acquiring unbiased data\n",
    "#Obtaining Training data set\n",
    "train_set = data[0:int(len(data)*train_percent)]\n",
    "train_set = sorted(train_set, key=lambda train_set: train_set[0]) # Sorting again for data in order\n",
    "train_set = np.transpose(train_set)\n",
    "train_set"
   ]
  },
  {
   "cell_type": "code",
   "execution_count": 3,
   "metadata": {},
   "outputs": [
    {
     "data": {
      "text/plain": [
       "(2, 800)"
      ]
     },
     "execution_count": 3,
     "metadata": {},
     "output_type": "execute_result"
    }
   ],
   "source": [
    "train_set.shape"
   ]
  },
  {
   "cell_type": "code",
   "execution_count": 4,
   "metadata": {},
   "outputs": [
    {
     "data": {
      "text/plain": [
       "(array([-1.4987, -1.496 , -1.4947, ...,  2.4875,  2.4875,  2.4927]),\n",
       " array([-2.999 , -1.9354, -1.2466, ...,  5.5458,  5.4378,  6.407 ]))"
      ]
     },
     "execution_count": 4,
     "metadata": {},
     "output_type": "execute_result"
    }
   ],
   "source": [
    "test_set = data[int(len(data)*train_percent):]\n",
    "test_set = sorted(test_set, key=lambda test_set: test_set[0]) # Sorting again for data in order\n",
    "test_set = np.transpose(test_set)\n",
    "\n",
    "#Write code for obtaining test data set :test_set\n",
    "test_x, test_y = test_set\n",
    "test_x, test_y"
   ]
  },
  {
   "cell_type": "code",
   "execution_count": 5,
   "metadata": {},
   "outputs": [
    {
     "data": {
      "text/plain": [
       "(2, 1200)"
      ]
     },
     "execution_count": 5,
     "metadata": {},
     "output_type": "execute_result"
    }
   ],
   "source": [
    "test_set.shape"
   ]
  },
  {
   "cell_type": "code",
   "execution_count": 6,
   "metadata": {},
   "outputs": [
    {
     "data": {
      "text/plain": [
       "((720,), (720,), (80,), (80,))"
      ]
     },
     "execution_count": 6,
     "metadata": {},
     "output_type": "execute_result"
    }
   ],
   "source": [
    "from sklearn.model_selection import train_test_split\n",
    "\n",
    "#Reallocate for efficient programming\n",
    "train_x = train_set[0]  #train_set[0] : feature data set (i.e, x)\n",
    "train_y = train_set[1] #train_set[1] : lable data set (i.e, y)\n",
    "\n",
    "#Write code for obtaining valid data set : valid_set\n",
    "tn_x, valid_x, tn_y, valid_y = train_test_split(train_x, train_y, test_size=valid_percent, random_state=0) \n",
    "tn_x.shape, tn_y.shape, valid_x.shape, valid_y.shape"
   ]
  },
  {
   "cell_type": "code",
   "execution_count": 7,
   "metadata": {},
   "outputs": [],
   "source": [
    "##################### Regression Libraries #############\n",
    "def fit_polynomial(x,y , degree):\n",
    "    '''\n",
    "    Fits a polynomial to the input sample.\n",
    "    (x,y): input sample\n",
    "    degree: polynomial degree\n",
    "    '''\n",
    "    model = LinearRegression()\n",
    "    model.fit(np.vander(x, degree + 1), y)\n",
    "    return model\n",
    "\n",
    "def apply_polynomial(model, x):\n",
    "    '''\n",
    "    Evaluates a linear regression model in an input sample\n",
    "    model: linear regression model\n",
    "    x: input sample\n",
    "    '''\n",
    "    degree = model.coef_.size - 1\n",
    "    y = model.predict(np.vander(x, degree + 1))\n",
    "    return y\n",
    "##################### End of Regression Libraries #############"
   ]
  },
  {
   "cell_type": "code",
   "execution_count": 7,
   "metadata": {},
   "outputs": [
    {
     "ename": "NameError",
     "evalue": "name 'fit_polynomial' is not defined",
     "output_type": "error",
     "traceback": [
      "\u001b[1;31m---------------------------------------------------------------------------\u001b[0m",
      "\u001b[1;31mNameError\u001b[0m                                 Traceback (most recent call last)",
      "\u001b[1;32m<ipython-input-7-737217f71994>\u001b[0m in \u001b[0;36m<module>\u001b[1;34m\u001b[0m\n\u001b[0;32m      8\u001b[0m \u001b[1;32mfor\u001b[0m \u001b[0mpolynomial_order\u001b[0m \u001b[1;32min\u001b[0m \u001b[0mrange\u001b[0m\u001b[1;33m(\u001b[0m\u001b[1;36m1\u001b[0m\u001b[1;33m,\u001b[0m\u001b[1;36m10\u001b[0m\u001b[1;33m)\u001b[0m \u001b[1;33m:\u001b[0m\u001b[1;33m\u001b[0m\u001b[1;33m\u001b[0m\u001b[0m\n\u001b[0;32m      9\u001b[0m \u001b[1;31m#     tt_x, vf_x, tt_y, vf_y = train_test_split(train_x, train_y, test_size=0.1, random_state=0)\u001b[0m\u001b[1;33m\u001b[0m\u001b[1;33m\u001b[0m\u001b[1;33m\u001b[0m\u001b[0m\n\u001b[1;32m---> 10\u001b[1;33m     \u001b[0mmodel\u001b[0m \u001b[1;33m=\u001b[0m \u001b[0mfit_polynomial\u001b[0m\u001b[1;33m(\u001b[0m \u001b[0mtn_x\u001b[0m\u001b[1;33m,\u001b[0m \u001b[0mtn_y\u001b[0m\u001b[1;33m,\u001b[0m \u001b[0mpolynomial_order\u001b[0m \u001b[1;33m)\u001b[0m\u001b[1;33m\u001b[0m\u001b[1;33m\u001b[0m\u001b[0m\n\u001b[0m\u001b[0;32m     11\u001b[0m     \u001b[0mestimated_valid_y\u001b[0m \u001b[1;33m=\u001b[0m \u001b[0mapply_polynomial\u001b[0m\u001b[1;33m(\u001b[0m\u001b[0mmodel\u001b[0m\u001b[1;33m,\u001b[0m \u001b[0mvalid_x\u001b[0m\u001b[1;33m)\u001b[0m\u001b[1;33m\u001b[0m\u001b[1;33m\u001b[0m\u001b[0m\n\u001b[0;32m     12\u001b[0m \u001b[1;33m\u001b[0m\u001b[0m\n",
      "\u001b[1;31mNameError\u001b[0m: name 'fit_polynomial' is not defined"
     ]
    }
   ],
   "source": [
    "from sklearn.metrics import mean_squared_error as MSE\n",
    "# Starting values\n",
    "Optimal_Order = 0\n",
    "Minimum_MSE = 9999\n",
    "Optimal_Model = None\n",
    "\n",
    "# Determine minimum MSE for valid set as increasing polynomial order from 1 to 10.\n",
    "for polynomial_order in range(1,10) :\n",
    "#     tt_x, vf_x, tt_y, vf_y = train_test_split(train_x, train_y, test_size=0.1, random_state=0) \n",
    "    model = fit_polynomial( tn_x, tn_y, polynomial_order )\n",
    "    estimated_valid_y = apply_polynomial(model, valid_x)\n",
    "\n",
    "   # Write codes measuring MSE for valid set\n",
    "   # For calculating MSE use the library \"mean_squared_error\" in \"sklearn.metrics\"\n",
    "    mse_score = MSE(valid_y, estimated_valid_y)\n",
    "    if Minimum_MSE > mse_score:\n",
    "        Optimal_Order = polynomial_order\n",
    "        Minimum_MSE = mse_score\n",
    "        Optimal_Model = model\n",
    "\n",
    "print(\"----------------------\",\"\\n\")\n",
    "print(\"We can choose best polynomial order with MSE of validation set.\")\n",
    "print(\"Optimal order is \", Optimal_Order)\n",
    "print(\"Minimum MSE is \", Minimum_MSE)\n",
    "print(\"\\n\")\n",
    "print(\"-----TEST RESULT-----\")\n",
    "\n",
    "#Overlay Regression polynomial along training feature data and test data set (test_x, test,y)\n",
    "plt.plot(train_x, apply_polynomial(Optimal_Model, train_x),'g')   # Display with lines colored with green (g).\n",
    "# plt.plot(test_x, test_y, 'b.') # Display with dots colored with blue (b)."
   ]
  },
  {
   "cell_type": "code",
   "execution_count": 8,
   "metadata": {},
   "outputs": [
    {
     "ename": "NameError",
     "evalue": "name 'plt' is not defined",
     "output_type": "error",
     "traceback": [
      "\u001b[1;31m---------------------------------------------------------------------------\u001b[0m",
      "\u001b[1;31mNameError\u001b[0m                                 Traceback (most recent call last)",
      "\u001b[1;32m<ipython-input-8-d56520eabc0a>\u001b[0m in \u001b[0;36m<module>\u001b[1;34m\u001b[0m\n\u001b[1;32m----> 1\u001b[1;33m \u001b[0mplt\u001b[0m\u001b[1;33m.\u001b[0m\u001b[0mplot\u001b[0m\u001b[1;33m(\u001b[0m\u001b[0mtrain_x\u001b[0m\u001b[1;33m,\u001b[0m \u001b[0mapply_polynomial\u001b[0m\u001b[1;33m(\u001b[0m\u001b[0mOptimal_Model\u001b[0m\u001b[1;33m,\u001b[0m \u001b[0mtrain_x\u001b[0m\u001b[1;33m)\u001b[0m\u001b[1;33m,\u001b[0m\u001b[1;34m'g'\u001b[0m\u001b[1;33m)\u001b[0m   \u001b[1;31m# Display with lines colored with green (g).\u001b[0m\u001b[1;33m\u001b[0m\u001b[1;33m\u001b[0m\u001b[0m\n\u001b[0m\u001b[0;32m      2\u001b[0m \u001b[0mplt\u001b[0m\u001b[1;33m.\u001b[0m\u001b[0mplot\u001b[0m\u001b[1;33m(\u001b[0m\u001b[0mtest_x\u001b[0m\u001b[1;33m,\u001b[0m \u001b[0mtest_y\u001b[0m\u001b[1;33m,\u001b[0m \u001b[1;34m'b.'\u001b[0m\u001b[1;33m)\u001b[0m \u001b[1;31m# Display with dots colored with blue (b).\u001b[0m\u001b[1;33m\u001b[0m\u001b[1;33m\u001b[0m\u001b[0m\n",
      "\u001b[1;31mNameError\u001b[0m: name 'plt' is not defined"
     ]
    }
   ],
   "source": [
    "plt.plot(train_x, apply_polynomial(Optimal_Model, train_x),'g')   # Display with lines colored with green (g).\n",
    "plt.plot(test_x, test_y, 'b.') # Display with dots colored with blue (b)."
   ]
  },
  {
   "cell_type": "code",
   "execution_count": 24,
   "metadata": {},
   "outputs": [
    {
     "name": "stdout",
     "output_type": "stream",
     "text": [
      "MSE :  24.18656056578064\n",
      "The coefficient of model is  [ 0.0178492  -0.05788146 -0.11434674  0.44284242  1.19268093 -3.05024785\n",
      " -3.09167236  3.91202611  4.05678992  0.        ] ,   4.788984524916248\n"
     ]
    },
    {
     "data": {
      "image/png": "[encoded data removed]",
      "text/plain": [
       "<Figure size 432x288 with 1 Axes>"
      ]
     },
     "metadata": {
      "needs_background": "light"
     },
     "output_type": "display_data"
    }
   ],
   "source": [
    "#Write code for calculating MSE performance of the Optimal regression polynomial.\n",
    "MSE_Performance = MSE(test_x, test_y)\n",
    "print(\"MSE : \", MSE_Performance)\n",
    "\n",
    "print(\"The coefficient of model is \",Optimal_Model.coef_,\",  \",Optimal_Model.intercept_)\n",
    "\n",
    "plt.xlabel('Feature values : x')\n",
    "plt.ylabel('Lable values : y')\n",
    "plt.grid()\n",
    "\n",
    "# added code =============== \n",
    "plt.plot(test_x, apply_polynomial(Optimal_Model, test_x),'g', linewidth=10.0)   # Display with lines colored with green (g).\n",
    "plt.plot(test_x, test_y, 'b.') # Display with dots colored with blue (b).\n",
    "# ========================== \n",
    "\n",
    "plt.suptitle('Polynomial Regression',fontsize=16)\n",
    "plt.show()"
   ]
  },
  {
   "cell_type": "code",
   "execution_count": null,
   "metadata": {},
   "outputs": [],
   "source": []
  }
 ],
 "metadata": {
  "kernelspec": {
   "display_name": "Python 3",
   "language": "python",
   "name": "python3"
  },
  "language_info": {
   "codemirror_mode": {
    "name": "ipython",
    "version": 3
   },
   "file_extension": ".py",
   "mimetype": "text/x-python",
   "name": "python",
   "nbconvert_exporter": "python",
   "pygments_lexer": "ipython3",
   "version": "3.7.4"
  }
 },
 "nbformat": 4,
 "nbformat_minor": 2
}
