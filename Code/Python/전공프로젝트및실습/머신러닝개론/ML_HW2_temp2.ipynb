{
 "cells": [
  {
   "cell_type": "code",
   "execution_count": 15,
   "metadata": {},
   "outputs": [
    {
     "data": {
      "text/plain": [
       "array([[ 1.4289 ,  1.2643 , -1.362  , ...,  1.337  ,  1.0654 , -0.80376],\n",
       "       [ 4.3156 ,  6.6349 ,  0.95923, ...,  5.8648 ,  7.2634 ,  3.0365 ]])"
      ]
     },
     "execution_count": 15,
     "metadata": {},
     "output_type": "execute_result"
    }
   ],
   "source": [
    "from sklearn.model_selection import train_test_split\n",
    "import matplotlib.pyplot as plt\n",
    "import numpy as np\n",
    "from sklearn.linear_model import LinearRegression\n",
    "\n",
    "train_percent = 0.4  # To be modified\n",
    "valid_percent = 0.1  # To be modified\n",
    "import csv \n",
    "# Modify the data location for loading data\n",
    "data = np.loadtxt('C:/Users/용자/Desktop/2019_2 과제/머신러닝/HW2/data.csv', unpack=True, delimiter=',',skiprows=0 )\n"
   ]
  },
  {
   "cell_type": "code",
   "execution_count": 16,
   "metadata": {},
   "outputs": [
    {
     "data": {
      "text/plain": [
       "array([ 1.4289 ,  1.2643 , -1.362  , ...,  1.337  ,  1.0654 , -0.80376])"
      ]
     },
     "execution_count": 16,
     "metadata": {},
     "output_type": "execute_result"
    }
   ],
   "source": [
    "data[0]"
   ]
  },
  {
   "cell_type": "markdown",
   "metadata": {},
   "source": []
  },
  {
   "cell_type": "code",
   "execution_count": 1,
   "metadata": {},
   "outputs": [
    {
     "ename": "NameError",
     "evalue": "name 'data' is not defined",
     "output_type": "error",
     "traceback": [
      "\u001b[1;31m---------------------------------------------------------------------------\u001b[0m",
      "\u001b[1;31mNameError\u001b[0m                                 Traceback (most recent call last)",
      "\u001b[1;32m<ipython-input-1-b4e802f23474>\u001b[0m in \u001b[0;36m<module>\u001b[1;34m\u001b[0m\n\u001b[0;32m      1\u001b[0m \u001b[1;31m# Write a code for acquiring unbiased data\u001b[0m\u001b[1;33m\u001b[0m\u001b[1;33m\u001b[0m\u001b[1;33m\u001b[0m\u001b[0m\n\u001b[1;32m----> 2\u001b[1;33m \u001b[0mx\u001b[0m\u001b[1;33m,\u001b[0m \u001b[0my\u001b[0m \u001b[1;33m=\u001b[0m \u001b[0mdata\u001b[0m\u001b[1;33m\u001b[0m\u001b[1;33m\u001b[0m\u001b[0m\n\u001b[0m\u001b[0;32m      3\u001b[0m \u001b[0mtrain_x\u001b[0m\u001b[1;33m,\u001b[0m \u001b[0mtest_x\u001b[0m\u001b[1;33m,\u001b[0m \u001b[0mtrain_y\u001b[0m\u001b[1;33m,\u001b[0m \u001b[0mtest_y\u001b[0m \u001b[1;33m=\u001b[0m \u001b[0mtrain_test_split\u001b[0m\u001b[1;33m(\u001b[0m\u001b[0mx\u001b[0m\u001b[1;33m,\u001b[0m \u001b[0my\u001b[0m\u001b[1;33m,\u001b[0m \u001b[0mtest_size\u001b[0m\u001b[1;33m=\u001b[0m\u001b[1;36m1\u001b[0m\u001b[1;33m-\u001b[0m\u001b[0mtrain_percent\u001b[0m\u001b[1;33m,\u001b[0m \u001b[0mrandom_state\u001b[0m\u001b[1;33m=\u001b[0m\u001b[1;36m0\u001b[0m\u001b[1;33m)\u001b[0m\u001b[1;33m\u001b[0m\u001b[1;33m\u001b[0m\u001b[0m\n",
      "\u001b[1;31mNameError\u001b[0m: name 'data' is not defined"
     ]
    }
   ],
   "source": [
    "\n",
    "# Write a code for acquiring unbiased data\n",
    "x, y = data\n",
    "train_x, test_x, train_y, test_y = train_test_split(x, y, test_size=1-train_percent, random_state=0)\n",
    "len(train_x), len(test_x)"
   ]
  },
  {
   "cell_type": "code",
   "execution_count": 32,
   "metadata": {},
   "outputs": [
    {
     "name": "stdout",
     "output_type": "stream",
     "text": [
      "---------------------- \n",
      "\n",
      "We can choose best polynomial order with MSE of validation set.\n",
      "Optimal order is  1\n",
      "Minimum MSE is  18.822852341499903\n",
      "\n",
      "\n",
      "-----TEST RESULT-----\n"
     ]
    },
    {
     "data": {
      "text/plain": [
       "[<matplotlib.lines.Line2D at 0x2548846dc48>]"
      ]
     },
     "execution_count": 32,
     "metadata": {},
     "output_type": "execute_result"
    },
    {
     "data": {
      "image/png": "[encoded data removed]",
      "text/plain": [
       "<Figure size 432x288 with 1 Axes>"
      ]
     },
     "metadata": {
      "needs_background": "light"
     },
     "output_type": "display_data"
    }
   ],
   "source": [
    "# #Obtaining Training data set\n",
    "# train_set = data[0:int(len(data)*train_percent)]\n",
    "# train_set = sorted(train_set, key=lambda train_set: train_set[0]) # Sorting again for data in order\n",
    "# train_set = np.transpose(train_set)\n",
    "\n",
    "#Reallocate for efficient programming\n",
    "# train_x = train_set[0]  #train_set[0] : feature data set (i.e, x)\n",
    "# train_y = train_set[1] #train_set[1] : lable data set (i.e, y)\n",
    "\n",
    "\n",
    "#Write code for obtaining valid data set : valid_set\n",
    "# train_x, test_x, train_y, test_y = train_test_split(x, y, train_percent, random_state=0)\n",
    "\n",
    "# valid_x = valid_set[0]\n",
    "# valid_y = valid_set[1]\n",
    "\n",
    "# #Write code for obtaining test data set :test_set\n",
    "\n",
    "# test_x = test_set[0]\n",
    "# test_y = test_set[1]\n",
    "\n",
    "\n",
    "\n",
    "##################### Regression Libraries #############\n",
    "def fit_polynomial(x,y , degree):\n",
    "    '''\n",
    "    Fits a polynomial to the input sample.\n",
    "    (x,y): input sample\n",
    "    degree: polynomial degree\n",
    "    '''\n",
    "    model = LinearRegression()\n",
    "    model.fit(np.vander(x, degree + 1), y)\n",
    "    return model\n",
    "\n",
    "def apply_polynomial(model, x):\n",
    "    '''\n",
    "    Evaluates a linear regression model in an input sample\n",
    "    model: linear regression model\n",
    "    x: input sample\n",
    "    '''\n",
    "    degree = model.coef_.size - 1\n",
    "    y = model.predict(np.vander(x, degree + 1))\n",
    "    return y\n",
    "##################### End of Regression Libraries #############\n",
    "\n",
    "# Starting values\n",
    "Optimal_Order = 0\n",
    "Minimum_MSE = 9999\n",
    "Optimal_Model=None\n",
    "\n",
    "# Determine minimum MSE for valid set as increasing polynomial order from 1 to 10.\n",
    "for polynomial_order in range(1, 10) :\n",
    "    train_x, verifi_x, train_y, verfi_y = train_test_split(train_x, train_y, test_size=0.1)\n",
    "    model = fit_polynomial(train_x, train_y, polynomial_order)\n",
    "    \n",
    "    Estimated_verifi_y = apply_polynomial(model, verifi_x)\n",
    "\n",
    "   # Write codes measuring MSE for valid set\n",
    "   # For calculating MSE use the library \"mean_squared_error\" in \"sklearn.metrics\"\n",
    "    MSE = np.square(np.subtract(verifi_x, Estimated_verifi_y)).mean() \n",
    "    if Minimum_MSE> MSE :\n",
    "        Optimal_Order = polynomial_order\n",
    "        Minimum_MSE = MSE\n",
    "        Optimal_Model = model\n",
    "        \n",
    "\n",
    "print(\"----------------------\",\"\\n\")\n",
    "print(\"We can choose best polynomial order with MSE of validation set.\")\n",
    "print(\"Optimal order is \", Optimal_Order)\n",
    "print(\"Minimum MSE is \", Minimum_MSE)\n",
    "print(\"\\n\")\n",
    "print(\"-----TEST RESULT-----\")\n",
    "\n",
    "#Overlay Regression polynomial along training feature data and test data set (test_x, test,y)\n",
    "plt.plot(train_x, apply_polynomial(Optimal_Model, train_x),'g')   # Display with lines colored with green (g).\n",
    "plt.plot(test_x, test_y, 'b.') # Display with dots colored with blue (b).\n"
   ]
  },
  {
   "cell_type": "code",
   "execution_count": 23,
   "metadata": {},
   "outputs": [
    {
     "ename": "NameError",
     "evalue": "name 'MSE_Performance' is not defined",
     "output_type": "error",
     "traceback": [
      "\u001b[1;31m---------------------------------------------------------------------------\u001b[0m",
      "\u001b[1;31mNameError\u001b[0m                                 Traceback (most recent call last)",
      "\u001b[1;32m<ipython-input-23-fd7282fb9268>\u001b[0m in \u001b[0;36m<module>\u001b[1;34m\u001b[0m\n\u001b[0;32m      1\u001b[0m \u001b[1;31m#Write code for calculating MSE performance of the Optimal regression polynomial.\u001b[0m\u001b[1;33m\u001b[0m\u001b[1;33m\u001b[0m\u001b[1;33m\u001b[0m\u001b[0m\n\u001b[0;32m      2\u001b[0m \u001b[1;33m\u001b[0m\u001b[0m\n\u001b[1;32m----> 3\u001b[1;33m \u001b[0mprint\u001b[0m\u001b[1;33m(\u001b[0m\u001b[1;34m\"MSE : \"\u001b[0m\u001b[1;33m,\u001b[0m \u001b[0mMSE_Performance\u001b[0m\u001b[1;33m)\u001b[0m\u001b[1;33m\u001b[0m\u001b[1;33m\u001b[0m\u001b[0m\n\u001b[0m\u001b[0;32m      4\u001b[0m \u001b[1;33m\u001b[0m\u001b[0m\n\u001b[0;32m      5\u001b[0m \u001b[0mprint\u001b[0m\u001b[1;33m(\u001b[0m\u001b[1;34m\"The coefficient of model is \"\u001b[0m\u001b[1;33m,\u001b[0m\u001b[0mOptimal_Model\u001b[0m\u001b[1;33m.\u001b[0m\u001b[0mcoef_\u001b[0m\u001b[1;33m,\u001b[0m\u001b[1;34m\",  \"\u001b[0m\u001b[1;33m,\u001b[0m\u001b[0mOptimal_Model\u001b[0m\u001b[1;33m.\u001b[0m\u001b[0mintercept_\u001b[0m\u001b[1;33m)\u001b[0m\u001b[1;33m\u001b[0m\u001b[1;33m\u001b[0m\u001b[0m\n",
      "\u001b[1;31mNameError\u001b[0m: name 'MSE_Performance' is not defined"
     ]
    }
   ],
   "source": [
    "\n",
    "#Write code for calculating from sklearn.cross_validation import cross_val_score.\n",
    "polynomial_order = 9\n",
    "model = fit_polynomial(train_x, train_y, polynomial_order)\n",
    "Estimated_train_y = apply_polynomial(model, train_x)\n",
    "\n",
    "# Write codes measuring MSE for valid set\n",
    "# For calculating MSE use the library \"mean_squared_error\" in \"sklearn.metrics\"\n",
    "MSE = np.square(np.subtract(train_y, Estimated_train_y)).mean() \n",
    "\n",
    "\n",
    "\n",
    "print(\"MSE : \", MSE_Performance)\n",
    "\n",
    "print(\"The coefficient of model is \",Optimal_Model.coef_,\",  \",Optimal_Model.intercept_)\n",
    "\n",
    "plt.xlabel('Feature values : x')\n",
    "plt.ylabel('Lable values : y')\n",
    "plt.grid()\n",
    "plt.suptitle('Polynomial Regression',fontsize=16)\n",
    "plt.show()"
   ]
  },
  {
   "cell_type": "code",
   "execution_count": null,
   "metadata": {},
   "outputs": [],
   "source": []
  }
 ],
 "metadata": {
  "kernelspec": {
   "display_name": "Python 3",
   "language": "python",
   "name": "python3"
  },
  "language_info": {
   "codemirror_mode": {
    "name": "ipython",
    "version": 3
   },
   "file_extension": ".py",
   "mimetype": "text/x-python",
   "name": "python",
   "nbconvert_exporter": "python",
   "pygments_lexer": "ipython3",
   "version": "3.7.4"
  }
 },
 "nbformat": 4,
 "nbformat_minor": 2
}
