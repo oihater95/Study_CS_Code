{
 "cells": [
  {
   "cell_type": "code",
   "execution_count": 1,
   "metadata": {},
   "outputs": [
    {
     "data": {
      "text/plain": [
       "<Figure size 640x480 with 1 Axes>"
      ]
     },
     "metadata": {},
     "output_type": "display_data"
    },
    {
     "data": {
      "text/plain": [
       "<Figure size 640x480 with 1 Axes>"
      ]
     },
     "metadata": {},
     "output_type": "display_data"
    },
    {
     "data": {
      "text/plain": [
       "<Figure size 640x480 with 1 Axes>"
      ]
     },
     "metadata": {},
     "output_type": "display_data"
    },
    {
     "data": {
      "text/plain": [
       "<Figure size 640x480 with 1 Axes>"
      ]
     },
     "metadata": {},
     "output_type": "display_data"
    },
    {
     "data": {
      "text/plain": [
       "<Figure size 640x480 with 1 Axes>"
      ]
     },
     "metadata": {},
     "output_type": "display_data"
    },
    {
     "data": {
      "text/plain": [
       "<Figure size 640x480 with 1 Axes>"
      ]
     },
     "metadata": {},
     "output_type": "display_data"
    },
    {
     "data": {
      "text/plain": [
       "<Figure size 640x480 with 1 Axes>"
      ]
     },
     "metadata": {},
     "output_type": "display_data"
    },
    {
     "data": {
      "text/plain": [
       "<Figure size 640x480 with 1 Axes>"
      ]
     },
     "metadata": {},
     "output_type": "display_data"
    },
    {
     "data": {
      "text/plain": [
       "<Figure size 640x480 with 1 Axes>"
      ]
     },
     "metadata": {},
     "output_type": "display_data"
    },
    {
     "data": {
      "text/plain": [
       "<Figure size 640x480 with 1 Axes>"
      ]
     },
     "metadata": {},
     "output_type": "display_data"
    }
   ],
   "source": [
    "import tensorflow as tf\n",
    "import matplotlib.pyplot as plt\n",
    "from mpl_toolkits.mplot3d import Axes3D\n",
    "import numpy as np\n",
    "\n",
    "data = np.loadtxt('C:/Users/사용자/Desktop/Iris2.csv', unpack=True, delimiter = ',', skiprows=0)\n",
    "#0. sepal length / 1. sepal width / 2. petal length / 3. petal width\n",
    "plt.plot(data[0], data[1], 'o', markersize=3)\n",
    "plt.xlabel('sepal length')\n",
    "plt.ylabel('sepal width')\n",
    "plt.grid()\n",
    "plt.suptitle('2d plotting_1', fontsize=16)\n",
    "plt.savefig('C:/Users/사용자/Desktop/Iris_1.png')\n",
    "plt.show()\n",
    "\n",
    "plt.plot(data[0], data[2], 'o', markersize=3)\n",
    "plt.xlabel('sepal length')\n",
    "plt.ylabel('petal length')\n",
    "plt.grid()\n",
    "plt.suptitle('2d plotting_2', fontsize=16)\n",
    "plt.savefig('C:/Users/사용자/Desktop/Iris_2.png')\n",
    "plt.show()\n",
    "\n",
    "plt.plot(data[0], data[3], 'o', markersize=3)\n",
    "plt.xlabel('sepal length')\n",
    "plt.ylabel('petal width')\n",
    "plt.grid()\n",
    "plt.suptitle('2d plotting_3', fontsize=16)\n",
    "plt.savefig('C:/Users/사용자/Desktop/Iris_3.png')\n",
    "plt.show()\n",
    "\n",
    "plt.plot(data[1], data[2], 'o', markersize=3)\n",
    "plt.xlabel('sepal width')\n",
    "plt.ylabel('petal length')\n",
    "plt.grid()\n",
    "plt.suptitle('2d plotting_4', fontsize=16)\n",
    "plt.savefig('C:/Users/사용자/Desktop/Iris_4.png')\n",
    "plt.show()\n",
    "\n",
    "plt.plot(data[1], data[3], 'o', markersize=3)\n",
    "plt.xlabel('sepal width')\n",
    "plt.ylabel('petal width')\n",
    "plt.grid()\n",
    "plt.suptitle('2d plotting_5', fontsize=16)\n",
    "plt.savefig('C:/Users/사용자/Desktop/Iris_5.png')\n",
    "plt.show()\n",
    "\n",
    "plt.plot(data[2], data[3], 'o', markersize=3)\n",
    "plt.xlabel('petal length')\n",
    "plt.ylabel('petal width')\n",
    "plt.grid()\n",
    "plt.suptitle('2d plotting_6', fontsize=16)\n",
    "plt.savefig('C:/Users/사용자/Desktop/Iris_6.png')\n",
    "plt.show()\n",
    "\n",
    "fig = plt.figure()\n",
    "ax = Axes3D(fig)\n",
    "X=data[0]\n",
    "Y=data[1]\n",
    "Z=data[4]\n",
    "\n",
    "ax.scatter(X,Y,Z)\n",
    "ax.set_xlabel('sepal length')\n",
    "ax.set_ylabel('sepal width')\n",
    "ax.set_zlabel('class')\n",
    "plt.suptitle('3d plotting_hw1_3', fontsize=16)\n",
    "plt.savefig('C:/Users/사용자/Desktop/Iris_HW1_3.png')\n",
    "plt.show()\n",
    "\n",
    "fig = plt.figure()\n",
    "ax = Axes3D(fig)\n",
    "X=data[0]\n",
    "Y=data[2]\n",
    "Z=data[4]\n",
    "\n",
    "ax.scatter(X,Y,Z)\n",
    "ax.set_xlabel('sepal length')\n",
    "ax.set_ylabel('petal length')\n",
    "ax.set_zlabel('class')\n",
    "plt.suptitle('3d plotting_hw1_3_4', fontsize=16)\n",
    "plt.savefig('C:/Users/사용자/Desktop/Iris_HW1_3_4.png')\n",
    "plt.show()\n",
    "\n",
    "fig = plt.figure()\n",
    "ax = Axes3D(fig)\n",
    "X=data[5]\n",
    "Y=data[6]\n",
    "Z=data[4]\n",
    "\n",
    "ax.scatter(X,Y,Z)\n",
    "ax.set_xlabel('sepal area')\n",
    "ax.set_ylabel('petal area')\n",
    "ax.set_zlabel('class')\n",
    "plt.suptitle('3d plotting_hw1_4', fontsize=16)\n",
    "plt.savefig('C:/Users/사용자/Desktop/Iris_HW1_4.png')\n",
    "plt.show()\n",
    "\n",
    "fig = plt.figure()\n",
    "ax = Axes3D(fig)\n",
    "X=data[2]\n",
    "Y=data[3]\n",
    "Z=data[4]\n",
    "\n",
    "ax.scatter(X,Y,Z)\n",
    "ax.set_xlabel('petal length')\n",
    "ax.set_ylabel('petal width')\n",
    "ax.set_zlabel('class')\n",
    "plt.suptitle('3d plotting_hw1_4_2', fontsize=16)\n",
    "plt.savefig('C:/Users/사용자/Desktop/Iris_HW1_4_2.png')\n",
    "plt.show()\n"
   ]
  },
  {
   "cell_type": "code",
   "execution_count": null,
   "metadata": {},
   "outputs": [],
   "source": []
  }
 ],
 "metadata": {
  "kernelspec": {
   "display_name": "Python 3",
   "language": "python",
   "name": "python3"
  },
  "language_info": {
   "codemirror_mode": {
    "name": "ipython",
    "version": 3
   },
   "file_extension": ".py",
   "mimetype": "text/x-python",
   "name": "python",
   "nbconvert_exporter": "python",
   "pygments_lexer": "ipython3",
   "version": "3.7.4"
  }
 },
 "nbformat": 4,
 "nbformat_minor": 2
}
